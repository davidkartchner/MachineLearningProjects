{
 "cells": [
  {
   "cell_type": "markdown",
   "metadata": {},
   "source": [
    "# Spark Cluster Computing\n",
    "**Section 1: Intro to Spark machine learning algorithms**  \n",
    "    Example code about some stuff\n",
    "    If they don’t know about this yet: Decision tree\n",
    "    DETAILS\n",
    "    Make tiny tree by hand?\n",
    "    Make up a tiny data set to make a tree by hand\n",
    "    And then code it up\n",
    "    Overfitting, BEWARE\n",
    "    Else: just give wikipedia link for review\n",
    "    Parallelism\n",
    "    \n",
    "**Intro to the lab project**\n",
    "    Examples\n",
    "    http://spark.apache.org/docs/latest/mllib-ensembles.html\n",
    "    talk about the data set (maybe same data set as last lab)\n",
    "    Run the data through \n",
    "Cluster Computing\n",
    "http://spark.apache.org/docs/latest/cluster-overview.html\n",
    "http://spark.apache.org/docs/latest/submitting-applications.html\n",
    "Overfitting\n",
    "Train a model multiple times on the data \n",
    "Predict on one of the train data - should perform well\n",
    "Predict on a test data point - should perform poorly\n",
    "Data streaming\n",
    "http://spark.apache.org/docs/latest/streaming-programming-guide.html\n"
   ]
  },
  {
   "cell_type": "code",
   "execution_count": 5,
   "metadata": {
    "collapsed": false
   },
   "outputs": [
    {
     "ename": "ImportError",
     "evalue": "No module named pyspark",
     "output_type": "error",
     "traceback": [
      "\u001b[0;31m---------------------------------------------------------------------------\u001b[0m",
      "\u001b[0;31mImportError\u001b[0m                               Traceback (most recent call last)",
      "\u001b[0;32m<ipython-input-5-c15ae3402d12>\u001b[0m in \u001b[0;36m<module>\u001b[0;34m()\u001b[0m\n\u001b[0;32m----> 1\u001b[0;31m \u001b[0;32mimport\u001b[0m \u001b[0mpyspark\u001b[0m\u001b[0;34m\u001b[0m\u001b[0m\n\u001b[0m",
      "\u001b[0;31mImportError\u001b[0m: No module named pyspark"
     ]
    }
   ],
   "source": [
    "import pyspark"
   ]
  },
  {
   "cell_type": "code",
   "execution_count": null,
   "metadata": {
    "collapsed": true
   },
   "outputs": [],
   "source": []
  },
  {
   "cell_type": "code",
   "execution_count": null,
   "metadata": {
    "collapsed": true
   },
   "outputs": [],
   "source": []
  }
 ],
 "metadata": {
  "kernelspec": {
   "display_name": "Python 2",
   "language": "python",
   "name": "python2"
  },
  "language_info": {
   "codemirror_mode": {
    "name": "ipython",
    "version": 2
   },
   "file_extension": ".py",
   "mimetype": "text/x-python",
   "name": "python",
   "nbconvert_exporter": "python",
   "pygments_lexer": "ipython2",
   "version": "2.7.11"
  }
 },
 "nbformat": 4,
 "nbformat_minor": 0
}

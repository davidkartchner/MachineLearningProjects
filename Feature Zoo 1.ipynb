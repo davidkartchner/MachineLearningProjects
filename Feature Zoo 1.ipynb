{
 "cells": [
  {
   "cell_type": "markdown",
   "metadata": {
    "run_control": {
     "frozen": false,
     "read_only": false
    }
   },
   "source": [
    "# David Kartchner\n",
    "## CS 501R\n",
    "## Feature Zoo 1 (Why is it a zoo?)"
   ]
  },
  {
   "cell_type": "markdown",
   "metadata": {
    "run_control": {
     "frozen": false,
     "read_only": false
    }
   },
   "source": [
    "### Import useful Features"
   ]
  },
  {
   "cell_type": "code",
   "execution_count": 3,
   "metadata": {
    "collapsed": true,
    "run_control": {
     "frozen": false,
     "read_only": false
    }
   },
   "outputs": [],
   "source": [
    "import tensorflow as tf\n",
    "import numpy as np\n",
    "import matplotlib.pyplot as plt\n",
    "%matplotlib inline\n",
    "from tensorflow.examples.tutorials.mnist import input_data"
   ]
  },
  {
   "cell_type": "code",
   "execution_count": 4,
   "metadata": {
    "collapsed": true,
    "run_control": {
     "frozen": false,
     "read_only": false
    }
   },
   "outputs": [],
   "source": [
    "def weight_variable(shape):\n",
    "  initial = tf.truncated_normal( shape, stddev=0.1 )\n",
    "  return tf.Variable( initial )\n",
    "\n",
    "def bias_variable(shape):\n",
    "  initial = tf.constant( 0.1, shape=shape )\n",
    "  return tf.Variable(initial)\n"
   ]
  },
  {
   "cell_type": "markdown",
   "metadata": {
    "run_control": {
     "frozen": false,
     "read_only": false
    }
   },
   "source": [
    "## Note to the Grader (probably Brandon):\n",
    "** I put all of my methods in this file.  Just scross down until you find them. **"
   ]
  },
  {
   "cell_type": "markdown",
   "metadata": {
    "run_control": {
     "frozen": false,
     "read_only": false
    }
   },
   "source": [
    "## Dropout"
   ]
  },
  {
   "cell_type": "code",
   "execution_count": 5,
   "metadata": {
    "collapsed": true,
    "run_control": {
     "frozen": false,
     "read_only": false
    }
   },
   "outputs": [
    {
     "name": "stdout",
     "output_type": "stream",
     "text": [
      "Training network with keep probability 0.1\n",
      "Extracting MNIST_data/train-images-idx3-ubyte.gz\n",
      "Extracting MNIST_data/train-labels-idx1-ubyte.gz\n",
      "Extracting MNIST_data/t10k-images-idx3-ubyte.gz\n",
      "Extracting MNIST_data/t10k-labels-idx1-ubyte.gz\n",
      "test accuracy 0.098\n",
      "Training network with keep probability 0.25\n",
      "Extracting MNIST_data/train-images-idx3-ubyte.gz\n",
      "Extracting MNIST_data/train-labels-idx1-ubyte.gz\n",
      "Extracting MNIST_data/t10k-images-idx3-ubyte.gz\n",
      "Extracting MNIST_data/t10k-labels-idx1-ubyte.gz\n",
      "test accuracy 0.4857\n",
      "Training network with keep probability 0.5\n",
      "Extracting MNIST_data/train-images-idx3-ubyte.gz\n",
      "Extracting MNIST_data/train-labels-idx1-ubyte.gz\n",
      "Extracting MNIST_data/t10k-images-idx3-ubyte.gz\n",
      "Extracting MNIST_data/t10k-labels-idx1-ubyte.gz\n",
      "test accuracy 0.8049\n",
      "Training network with keep probability 0.75\n",
      "Extracting MNIST_data/train-images-idx3-ubyte.gz\n",
      "Extracting MNIST_data/train-labels-idx1-ubyte.gz\n",
      "Extracting MNIST_data/t10k-images-idx3-ubyte.gz\n",
      "Extracting MNIST_data/t10k-labels-idx1-ubyte.gz\n",
      "test accuracy 0.8688\n",
      "Training network with keep probability 1.0\n",
      "Extracting MNIST_data/train-images-idx3-ubyte.gz\n",
      "Extracting MNIST_data/train-labels-idx1-ubyte.gz\n",
      "Extracting MNIST_data/t10k-images-idx3-ubyte.gz\n",
      "Extracting MNIST_data/t10k-labels-idx1-ubyte.gz\n",
      "test accuracy 0.8482\n"
     ]
    }
   ],
   "source": [
    "#Run for each probability 'p'\n",
    "probs = [.1, .25, .5, .75, 1.]\n",
    "test_accuracy = []\n",
    "train_accuracy = []\n",
    "for p in probs:\n",
    "    print \"Training network with keep probability {}\".format(p)\n",
    "    \n",
    "    # Declare computation graph\n",
    "    y_ = tf.placeholder( tf.float32, shape=[None, 10], name=\"y_\" )\n",
    "    x = tf.placeholder( tf.float32, [None, 784], name=\"x\" )\n",
    "    q = tf.placeholder(tf.float32, name='q')\n",
    "\n",
    "    W1 = weight_variable([784, 500])\n",
    "    b1 = bias_variable([500])\n",
    "    h11 = tf.nn.relu( tf.matmul( x, W1*q ) + b1 )\n",
    "    r1 = tf.placeholder(tf.float32, shape=[None,500])\n",
    "    h1 = h11*r1\n",
    "\n",
    "    W2 = weight_variable([500, 500])\n",
    "    b2 = bias_variable([500])\n",
    "    h22 = tf.nn.relu( tf.matmul( h1, W2*q ) + b2 )\n",
    "    r2 = tf.placeholder(tf.float32, shape=[None,500])\n",
    "    h2 = h22*r2\n",
    "\n",
    "    W3 = weight_variable([500, 1000])\n",
    "    b3 = bias_variable([1000])\n",
    "    h33 = tf.nn.relu( tf.matmul( h2, W3*q ) + b3 )\n",
    "    r3 = tf.placeholder(tf.float32, shape=[None, 1000])\n",
    "    h3 = h33*r3\n",
    "\n",
    "    W4 = weight_variable([1000, 10])\n",
    "    b4 = bias_variable([10])\n",
    "    y_hat = tf.nn.softmax(tf.matmul(h3, W4) + b4)\n",
    "\n",
    "    cross_entropy = tf.reduce_mean(-tf.reduce_sum(y_ * tf.log(y_hat), reduction_indices=[1]))\n",
    "    xent_summary = tf.scalar_summary( 'xent', cross_entropy )\n",
    "\n",
    "    correct_prediction = tf.equal(tf.argmax(y_hat,1), tf.argmax(y_,1))\n",
    "    accuracy = tf.reduce_mean(tf.cast(correct_prediction, tf.float32))\n",
    "    acc_summary = tf.scalar_summary( 'accuracy', accuracy )\n",
    "\n",
    "    train_step = tf.train.AdamOptimizer(1e-4).minimize(cross_entropy)\n",
    "\n",
    "    sess = tf.Session()\n",
    "    sess.run( tf.initialize_all_variables() )\n",
    "\n",
    "    # NOTE: we're using a single, fixed batch of the first 1000 images\n",
    "    mnist = input_data.read_data_sets( \"MNIST_data/\", one_hot=True )\n",
    "\n",
    "    images = mnist.train.images[ 0:1000, : ]\n",
    "    labels = mnist.train.labels[ 0:1000, : ]\n",
    "\n",
    "    for i in range( 150 ):\n",
    "        drop1 = np.random.binomial(1, p, size=(1000,500))\n",
    "        drop2 = np.random.binomial(1, p, size=(1000,500))\n",
    "        drop3 = np.random.binomial(1, p, size=(1000,1000))\n",
    "\n",
    "        _, acc = sess.run( [ train_step, accuracy ], feed_dict={ x: images, y_: labels, r1:drop1, \\\n",
    "                                                                r2:drop2, r3:drop3, q:1 } )\n",
    "\n",
    "\n",
    "    train1 = np.ones((1000,500))\n",
    "    train2 = np.ones((1000,500))\n",
    "    train3 = np.ones((1000,1000))\n",
    "    train_acc = sess.run( accuracy, feed_dict={ x: images, y_: labels, r1:train1, r2:train2, r3:train3, q:p } )\n",
    "    train_accuracy.append(train_acc)\n",
    "    \n",
    "    test1 = np.ones((10000,500))\n",
    "    test2 = np.ones((10000,500))\n",
    "    test3 = np.ones((10000,1000))\n",
    "    test_acc = sess.run( accuracy, feed_dict={ x: mnist.test.images, y_: mnist.test.labels, r1:test1, r2:test2, \\\n",
    "                                              r3:test3, q:p } )\n",
    "    print( \"test accuracy %g\" % test_acc )\n",
    "    test_accuracy.append(test_acc)\n",
    "    \n"
   ]
  },
  {
   "cell_type": "markdown",
   "metadata": {
    "run_control": {
     "frozen": false,
     "read_only": false
    }
   },
   "source": [
    "### Print Graph of Accuracy"
   ]
  },
  {
   "cell_type": "code",
   "execution_count": 6,
   "metadata": {
    "collapsed": false,
    "run_control": {
     "frozen": false,
     "read_only": false
    }
   },
   "outputs": [
    {
     "data": {
      "image/png": "[encoded data removed]",
      "text/plain": [
       "<matplotlib.figure.Figure at 0x11a7825d0>"
      ]
     },
     "metadata": {},
     "output_type": "display_data"
    }
   ],
   "source": [
    "plt.figure(figsize=(10,8))\n",
    "plt.plot(probs, train_accuracy, label=\"Train\")\n",
    "plt.plot(probs, test_accuracy, label=\"Test\")\n",
    "plt.plot([.1,1],[test_accuracy[-1],test_accuracy[-1]], '--k')\n",
    "plt.xlabel(\"Keep Prob\")\n",
    "plt.ylabel(\"Accuracy\")\n",
    "plt.legend(loc=\"best\")\n",
    "plt.title(\"Accuracy as a Function of Keep Prob\")\n",
    "plt.show()"
   ]
  },
  {
   "cell_type": "markdown",
   "metadata": {
    "collapsed": true,
    "run_control": {
     "frozen": false,
     "read_only": false
    }
   },
   "source": [
    "## DropConnect"
   ]
  },
  {
   "cell_type": "code",
   "execution_count": 15,
   "metadata": {
    "collapsed": true,
    "run_control": {
     "frozen": false,
     "read_only": false
    }
   },
   "outputs": [
    {
     "name": "stdout",
     "output_type": "stream",
     "text": [
      "Training network with keep probability 0.1\n",
      "Extracting MNIST_data/train-images-idx3-ubyte.gz\n",
      "Extracting MNIST_data/train-labels-idx1-ubyte.gz\n",
      "Extracting MNIST_data/t10k-images-idx3-ubyte.gz\n",
      "Extracting MNIST_data/t10k-labels-idx1-ubyte.gz\n",
      "step 0, training accuracy 0.108\n",
      "step 50, training accuracy 0.128\n",
      "step 100, training accuracy 0.065\n",
      "step 150, training accuracy 0.079\n",
      "step 200, training accuracy 0.063\n",
      "step 250, training accuracy 0.098\n",
      "step 300, training accuracy 0.129\n",
      "step 350, training accuracy 0.111\n",
      "step 400, training accuracy 0.105\n",
      "step 450, training accuracy 0.144\n",
      "step 500, training accuracy 0.107\n",
      "step 550, training accuracy 0.08\n",
      "step 600, training accuracy 0.122\n",
      "step 650, training accuracy 0.134\n",
      "step 700, training accuracy 0.118\n",
      "step 750, training accuracy 0.109\n",
      "step 800, training accuracy 0.166\n",
      "step 850, training accuracy 0.201\n",
      "step 900, training accuracy 0.127\n",
      "step 950, training accuracy 0.125\n",
      "test accuracy 0.115\n",
      "Training network with keep probability 0.25\n",
      "Extracting MNIST_data/train-images-idx3-ubyte.gz\n",
      "Extracting MNIST_data/train-labels-idx1-ubyte.gz\n",
      "Extracting MNIST_data/t10k-images-idx3-ubyte.gz\n",
      "Extracting MNIST_data/t10k-labels-idx1-ubyte.gz\n",
      "step 0, training accuracy 0.082\n",
      "step 50, training accuracy 0.096\n",
      "step 100, training accuracy 0.128\n",
      "step 150, training accuracy 0.094\n",
      "step 200, training accuracy 0.088\n",
      "step 250, training accuracy 0.101\n",
      "step 300, training accuracy 0.115\n",
      "step 350, training accuracy 0.206\n",
      "step 400, training accuracy 0.221\n",
      "step 450, training accuracy 0.171\n",
      "step 500, training accuracy 0.173\n",
      "step 550, training accuracy 0.201\n",
      "step 600, training accuracy 0.193\n",
      "step 650, training accuracy 0.109\n",
      "step 700, training accuracy 0.37\n",
      "step 750, training accuracy 0.281\n",
      "step 800, training accuracy 0.19\n",
      "step 850, training accuracy 0.376\n",
      "step 900, training accuracy 0.417\n",
      "step 950, training accuracy 0.446\n",
      "test accuracy 0.6698\n",
      "Training network with keep probability 0.5\n",
      "Extracting MNIST_data/train-images-idx3-ubyte.gz\n",
      "Extracting MNIST_data/train-labels-idx1-ubyte.gz\n",
      "Extracting MNIST_data/t10k-images-idx3-ubyte.gz\n",
      "Extracting MNIST_data/t10k-labels-idx1-ubyte.gz\n",
      "step 0, training accuracy 0.086\n",
      "step 50, training accuracy 0.109\n",
      "step 100, training accuracy 0.18\n",
      "step 150, training accuracy 0.251\n",
      "step 200, training accuracy 0.308\n",
      "step 250, training accuracy 0.291\n",
      "step 300, training accuracy 0.577\n",
      "step 350, training accuracy 0.456\n",
      "step 400, training accuracy 0.519\n",
      "step 450, training accuracy 0.591\n",
      "step 500, training accuracy 0.598\n",
      "step 550, training accuracy 0.705\n",
      "step 600, training accuracy 0.626\n",
      "step 650, training accuracy 0.757\n",
      "step 700, training accuracy 0.767\n",
      "step 750, training accuracy 0.768\n",
      "step 800, training accuracy 0.833\n",
      "step 850, training accuracy 0.795\n",
      "step 900, training accuracy 0.825\n",
      "step 950, training accuracy 0.812\n",
      "test accuracy 0.8513\n",
      "Training network with keep probability 0.75\n",
      "Extracting MNIST_data/train-images-idx3-ubyte.gz\n",
      "Extracting MNIST_data/train-labels-idx1-ubyte.gz\n",
      "Extracting MNIST_data/t10k-images-idx3-ubyte.gz\n",
      "Extracting MNIST_data/t10k-labels-idx1-ubyte.gz\n",
      "step 0, training accuracy 0.098\n",
      "step 50, training accuracy 0.443\n",
      "step 100, training accuracy 0.553\n",
      "step 150, training accuracy 0.719\n",
      "step 200, training accuracy 0.768\n",
      "step 250, training accuracy 0.68\n",
      "step 300, training accuracy 0.81\n",
      "step 350, training accuracy 0.844\n",
      "step 400, training accuracy 0.835\n",
      "step 450, training accuracy 0.866\n",
      "step 500, training accuracy 0.889\n",
      "step 550, training accuracy 0.863\n",
      "step 600, training accuracy 0.919\n",
      "step 650, training accuracy 0.943\n",
      "step 700, training accuracy 0.946\n",
      "step 750, training accuracy 0.919\n",
      "step 800, training accuracy 0.942\n",
      "step 850, training accuracy 0.954\n",
      "step 900, training accuracy 0.965\n",
      "step 950, training accuracy 0.964\n",
      "test accuracy 0.8933\n",
      "Training network with keep probability 1.0\n",
      "Extracting MNIST_data/train-images-idx3-ubyte.gz\n",
      "Extracting MNIST_data/train-labels-idx1-ubyte.gz\n",
      "Extracting MNIST_data/t10k-images-idx3-ubyte.gz\n",
      "Extracting MNIST_data/t10k-labels-idx1-ubyte.gz\n",
      "step 0, training accuracy 0.176\n",
      "step 50, training accuracy 0.958\n",
      "step 100, training accuracy 1\n",
      "step 150, training accuracy 1\n",
      "step 200, training accuracy 1\n",
      "step 250, training accuracy 1\n",
      "step 300, training accuracy 1\n",
      "step 350, training accuracy 1\n",
      "step 400, training accuracy 1\n",
      "step 450, training accuracy 1\n",
      "step 500, training accuracy 1\n",
      "step 550, training accuracy 1\n",
      "step 600, training accuracy 1\n",
      "step 650, training accuracy 1\n",
      "step 700, training accuracy 1\n",
      "step 750, training accuracy 1\n",
      "step 800, training accuracy 1\n",
      "step 850, training accuracy 1\n",
      "step 900, training accuracy 1\n",
      "step 950, training accuracy 1\n",
      "test accuracy 0.8749\n"
     ]
    }
   ],
   "source": [
    "#Run for each probability 'p'\n",
    "probs = [.1, .25, .5, .75, 1.]\n",
    "test_accuracy = []\n",
    "train_accuracy = []\n",
    "for p in probs:\n",
    "    print \"Training network with keep probability {}\".format(p)\n",
    "    \n",
    "    # Declare computation graph\n",
    "    y_ = tf.placeholder( tf.float32, shape=[None, 10], name=\"y_\" )\n",
    "    x = tf.placeholder( tf.float32, [None, 784], name=\"x\" )\n",
    "    q = tf.placeholder(tf.float32, name='q')\n",
    "\n",
    "    W1 = weight_variable([784, 500])\n",
    "    b1 = bias_variable([500])\n",
    "    r1 = tf.placeholder(tf.float32, shape=[784, 500])\n",
    "    h1 = tf.nn.relu( tf.matmul( x, r1*W1*q ) + b1 )\n",
    "\n",
    "    W2 = weight_variable([500, 500])\n",
    "    b2 = bias_variable([500])\n",
    "    r2 = tf.placeholder(tf.float32, shape=[500, 500])\n",
    "    h2 = tf.nn.relu( tf.matmul( h1, r2*W2*q ) + b2 )\n",
    "\n",
    "    W3 = weight_variable([500, 1000])\n",
    "    b3 = bias_variable([1000])\n",
    "    r3 = tf.placeholder(tf.float32, shape=[500, 1000])\n",
    "    h3 = tf.nn.relu( tf.matmul( h2, r3*W3*q ) + b3 )\n",
    "\n",
    "\n",
    "    W4 = weight_variable([1000, 10])\n",
    "    b4 = bias_variable([10])\n",
    "    y_hat = tf.nn.softmax(tf.matmul(h3, W4) + b4)\n",
    "\n",
    "    cross_entropy = tf.reduce_mean(-tf.reduce_sum(y_ * tf.log(y_hat), reduction_indices=[1]))\n",
    "    xent_summary = tf.scalar_summary( 'xent', cross_entropy )\n",
    "\n",
    "    correct_prediction = tf.equal(tf.argmax(y_hat,1), tf.argmax(y_,1))\n",
    "    accuracy = tf.reduce_mean(tf.cast(correct_prediction, tf.float32))\n",
    "    acc_summary = tf.scalar_summary( 'accuracy', accuracy )\n",
    "\n",
    "    train_step = tf.train.AdamOptimizer(1e-4).minimize(cross_entropy)\n",
    "\n",
    "    sess = tf.Session()\n",
    "    sess.run( tf.initialize_all_variables() )\n",
    "\n",
    "    # NOTE: we're using a single, fixed batch of the first 1000 images\n",
    "    mnist = input_data.read_data_sets( \"MNIST_data/\", one_hot=True )\n",
    "\n",
    "    images = mnist.train.images[ 0:1000, : ]\n",
    "    labels = mnist.train.labels[ 0:1000, : ]\n",
    "    \n",
    "    for i in range( 1000 ):\n",
    "        drop1 = np.random.binomial(1, p, size=(784,500))\n",
    "        drop2 = np.random.binomial(1, p, size=(500,500))\n",
    "        drop3 = np.random.binomial(1, p, size=(500,1000))\n",
    "\n",
    "        _, acc = sess.run( [ train_step, accuracy ], feed_dict={ x: images, y_: labels, r1:drop1, \\\n",
    "                                                                r2:drop2, r3:drop3, q:1 } )\n",
    "        if i%50==0:\n",
    "            print( \"step %d, training accuracy %g\" % (i, acc) )\n",
    "\n",
    "    train1 = np.ones((784,500))\n",
    "    train2 = np.ones((500,500))\n",
    "    train3 = np.ones((500,1000))\n",
    "    train_acc = sess.run( accuracy, feed_dict={ x: images, y_: labels, r1:train1, r2:train2, r3:train3, q:p } )\n",
    "    train_accuracy.append(train_acc)\n",
    "    \n",
    "    \n",
    "    test_acc = sess.run( accuracy, feed_dict={ x: mnist.test.images, y_: mnist.test.labels, r1:train1, \\\n",
    "                                              r2:train2, r3:train3, q:p } )\n",
    "    print( \"test accuracy %g\" % test_acc )\n",
    "    test_accuracy.append(test_acc)\n",
    "    "
   ]
  },
  {
   "cell_type": "markdown",
   "metadata": {
    "run_control": {
     "frozen": false,
     "read_only": false
    }
   },
   "source": [
    "### Print Graph of Accuracy"
   ]
  },
  {
   "cell_type": "code",
   "execution_count": 16,
   "metadata": {
    "collapsed": false,
    "run_control": {
     "frozen": false,
     "read_only": false
    }
   },
   "outputs": [
    {
     "data": {
      "image/png": "[encoded data removed]",
      "text/plain": [
       "<matplotlib.figure.Figure at 0x121947910>"
      ]
     },
     "metadata": {},
     "output_type": "display_data"
    }
   ],
   "source": [
    "plt.figure(figsize=(10,8))\n",
    "plt.plot(probs, train_accuracy, label=\"Train\")\n",
    "plt.plot(probs, test_accuracy, label=\"Test\")\n",
    "plt.plot([.1,1],[test_accuracy[-1],test_accuracy[-1]], '--k')\n",
    "plt.xlabel(\"Keep Prob\")\n",
    "plt.ylabel(\"Accuracy\")\n",
    "plt.legend(loc=\"best\")\n",
    "plt.title(\"Accuracy as a Function of Keep Prob\")\n",
    "plt.show()"
   ]
  },
  {
   "cell_type": "markdown",
   "metadata": {
    "collapsed": true,
    "run_control": {
     "frozen": false,
     "read_only": false
    }
   },
   "source": [
    "## L1 Regularization"
   ]
  },
  {
   "cell_type": "code",
   "execution_count": 10,
   "metadata": {
    "collapsed": true,
    "run_control": {
     "frozen": false,
     "read_only": false
    }
   },
   "outputs": [
    {
     "name": "stdout",
     "output_type": "stream",
     "text": [
      "Training for lambda = 0.1\n",
      "Extracting MNIST_data/train-images-idx3-ubyte.gz\n",
      "Extracting MNIST_data/train-labels-idx1-ubyte.gz\n",
      "Extracting MNIST_data/t10k-images-idx3-ubyte.gz\n",
      "Extracting MNIST_data/t10k-labels-idx1-ubyte.gz\n",
      "step 0, training accuracy 0.088\n",
      "step 10, training accuracy 0.087\n",
      "step 20, training accuracy 0.097\n",
      "step 30, training accuracy 0.101\n",
      "step 40, training accuracy 0.105\n",
      "step 50, training accuracy 0.112\n",
      "step 60, training accuracy 0.113\n",
      "step 70, training accuracy 0.114\n",
      "step 80, training accuracy 0.119\n",
      "step 90, training accuracy 0.118\n",
      "step 100, training accuracy 0.121\n",
      "step 110, training accuracy 0.119\n",
      "step 120, training accuracy 0.118\n",
      "step 130, training accuracy 0.118\n",
      "step 140, training accuracy 0.118\n",
      "test accuracy 0.1152\n",
      "Training for lambda = 0.01\n",
      "Extracting MNIST_data/train-images-idx3-ubyte.gz\n",
      "Extracting MNIST_data/train-labels-idx1-ubyte.gz\n",
      "Extracting MNIST_data/t10k-images-idx3-ubyte.gz\n",
      "Extracting MNIST_data/t10k-labels-idx1-ubyte.gz\n",
      "step 0, training accuracy 0.103\n",
      "step 10, training accuracy 0.285\n",
      "step 20, training accuracy 0.487\n",
      "step 30, training accuracy 0.608\n",
      "step 40, training accuracy 0.672\n",
      "step 50, training accuracy 0.705\n",
      "step 60, training accuracy 0.729\n",
      "step 70, training accuracy 0.742\n",
      "step 80, training accuracy 0.755\n",
      "step 90, training accuracy 0.765\n",
      "step 100, training accuracy 0.774\n",
      "step 110, training accuracy 0.777\n",
      "step 120, training accuracy 0.79\n",
      "step 130, training accuracy 0.792\n",
      "step 140, training accuracy 0.797\n",
      "test accuracy 0.6533\n",
      "Training for lambda = 0.001\n",
      "Extracting MNIST_data/train-images-idx3-ubyte.gz\n",
      "Extracting MNIST_data/train-labels-idx1-ubyte.gz\n",
      "Extracting MNIST_data/t10k-images-idx3-ubyte.gz\n",
      "Extracting MNIST_data/t10k-labels-idx1-ubyte.gz\n",
      "step 0, training accuracy 0.078\n",
      "step 10, training accuracy 0.438\n",
      "step 20, training accuracy 0.728\n",
      "step 30, training accuracy 0.834\n",
      "step 40, training accuracy 0.893\n",
      "step 50, training accuracy 0.936\n",
      "step 60, training accuracy 0.956\n",
      "step 70, training accuracy 0.971\n",
      "step 80, training accuracy 0.983\n",
      "step 90, training accuracy 0.99\n",
      "step 100, training accuracy 0.992\n",
      "step 110, training accuracy 0.994\n",
      "step 120, training accuracy 0.997\n",
      "step 130, training accuracy 0.998\n",
      "step 140, training accuracy 1\n",
      "test accuracy 0.8196\n",
      "Training for lambda = 0\n",
      "Extracting MNIST_data/train-images-idx3-ubyte.gz\n",
      "Extracting MNIST_data/train-labels-idx1-ubyte.gz\n",
      "Extracting MNIST_data/t10k-images-idx3-ubyte.gz\n",
      "Extracting MNIST_data/t10k-labels-idx1-ubyte.gz\n",
      "step 0, training accuracy 0.084\n",
      "step 10, training accuracy 0.363\n",
      "step 20, training accuracy 0.721\n",
      "step 30, training accuracy 0.848\n",
      "step 40, training accuracy 0.911\n",
      "step 50, training accuracy 0.951\n",
      "step 60, training accuracy 0.974\n",
      "step 70, training accuracy 0.983\n",
      "step 80, training accuracy 0.992\n",
      "step 90, training accuracy 0.996\n",
      "step 100, training accuracy 0.998\n",
      "step 110, training accuracy 0.999\n",
      "step 120, training accuracy 0.999\n",
      "step 130, training accuracy 1\n",
      "step 140, training accuracy 1\n",
      "test accuracy 0.8394\n"
     ]
    }
   ],
   "source": [
    "#Run for each probability 'p'\n",
    "lamdas = [.1, .01, .001, 0]\n",
    "test_accuracy = []\n",
    "train_accuracy = []\n",
    "for lamda in lamdas:\n",
    "    \n",
    "    print \"Training for lambda = {}\".format(lamda)\n",
    "    \n",
    "    # Declare computation graph\n",
    "    y_ = tf.placeholder( tf.float32, shape=[None, 10], name=\"y_\" )\n",
    "    x = tf.placeholder( tf.float32, [None, 784], name=\"x\" )\n",
    "    lam = tf.placeholder(tf.float32, name='lambda')\n",
    "\n",
    "    W1 = weight_variable([784, 500])\n",
    "    b1 = bias_variable([500])\n",
    "    h1 = tf.nn.relu( tf.matmul( x, W1 ) + b1 )\n",
    "\n",
    "    W2 = weight_variable([500, 500])\n",
    "    b2 = bias_variable([500])\n",
    "    h2 = tf.nn.relu( tf.matmul( h1, W2 ) + b2 )\n",
    "\n",
    "    W3 = weight_variable([500, 1000])\n",
    "    b3 = bias_variable([1000])\n",
    "    h3 = tf.nn.relu( tf.matmul( h2, W3 ) + b3 )\n",
    "\n",
    "\n",
    "    W4 = weight_variable([1000, 10])\n",
    "    b4 = bias_variable([10])\n",
    "    y_hat = tf.nn.softmax(tf.matmul(h3, W4) + b4)\n",
    "\n",
    "    cross_entropy = tf.reduce_mean(-tf.reduce_sum(y_ * tf.log(y_hat), reduction_indices=[1])) +\\\n",
    "                                lam*(tf.reduce_sum(tf.abs(W1))+tf.reduce_sum(tf.abs(W2))+\\\n",
    "                                     tf.reduce_sum(tf.abs(W3)) + tf.reduce_sum(tf.abs(W4)))\n",
    "    xent_summary = tf.scalar_summary( 'xent', cross_entropy )\n",
    "\n",
    "    correct_prediction = tf.equal(tf.argmax(y_hat,1), tf.argmax(y_,1))\n",
    "    accuracy = tf.reduce_mean(tf.cast(correct_prediction, tf.float32))\n",
    "    acc_summary = tf.scalar_summary( 'accuracy', accuracy )\n",
    "\n",
    "    train_step = tf.train.AdamOptimizer(1e-4).minimize(cross_entropy)\n",
    "\n",
    "    sess = tf.Session()\n",
    "    sess.run( tf.initialize_all_variables() )\n",
    "\n",
    "    # NOTE: we're using a single, fixed batch of the first 1000 images\n",
    "    mnist = input_data.read_data_sets( \"MNIST_data/\", one_hot=True )\n",
    "\n",
    "    images = mnist.train.images[ 0:1000, : ]\n",
    "    labels = mnist.train.labels[ 0:1000, : ]\n",
    "\n",
    "    for i in range( 150 ):\n",
    "        _, acc = sess.run( [ train_step, accuracy ], feed_dict={ x: images, y_: labels, lam:lamda } )\n",
    "        if i%10==0:\n",
    "            print( \"step %d, training accuracy %g\" % (i, acc) )\n",
    "\n",
    "    train_acc = sess.run( accuracy, feed_dict={ x: images, y_: labels } )\n",
    "    train_accuracy.append(train_acc)\n",
    "    \n",
    "    test_acc = sess.run( accuracy, feed_dict={ x: mnist.test.images, y_: mnist.test.labels } )\n",
    "    print( \"test accuracy %g\" % test_acc)\n",
    "    test_accuracy.append(test_acc)\n",
    "    "
   ]
  },
  {
   "cell_type": "markdown",
   "metadata": {
    "run_control": {
     "frozen": false,
     "read_only": false
    }
   },
   "source": [
    "### Print Graph of Accuracy"
   ]
  },
  {
   "cell_type": "code",
   "execution_count": 14,
   "metadata": {
    "collapsed": false,
    "run_control": {
     "frozen": false,
     "read_only": false
    }
   },
   "outputs": [
    {
     "data": {
      "image/png": "[encoded data removed]",
      "text/plain": [
       "<matplotlib.figure.Figure at 0x1212b7490>"
      ]
     },
     "metadata": {},
     "output_type": "display_data"
    }
   ],
   "source": [
    "plt.figure(figsize=(10,8))\n",
    "plt.semilogx(lamdas, train_accuracy, label=\"Train\")\n",
    "plt.semilogx(lamdas, test_accuracy, label=\"Test\")\n",
    "plt.semilogx([0,.1],[test_accuracy[-1],test_accuracy[-1]], '--k')\n",
    "plt.xlabel(\"Lambda\")\n",
    "plt.ylabel(\"Accuracy\")\n",
    "plt.legend(loc=\"best\")\n",
    "plt.title(\"Accuracy as a Function of L1 Regularization Parameter\")\n",
    "plt.show()"
   ]
  },
  {
   "cell_type": "code",
   "execution_count": null,
   "metadata": {
    "collapsed": true,
    "run_control": {
     "frozen": false,
     "read_only": false
    }
   },
   "outputs": [],
   "source": []
  }
 ],
 "metadata": {
  "anaconda-cloud": {},
  "kernelspec": {
   "display_name": "Python [conda root]",
   "language": "python",
   "name": "conda-root-py"
  },
  "language_info": {
   "codemirror_mode": {
    "name": "ipython",
    "version": 2
   },
   "file_extension": ".py",
   "mimetype": "text/x-python",
   "name": "python",
   "nbconvert_exporter": "python",
   "pygments_lexer": "ipython2",
   "version": "2.7.13"
  },
  "latex_envs": {
   "LaTeX_envs_menu_present": true,
   "autocomplete": true,
   "bibliofile": "biblio.bib",
   "cite_by": "apalike",
   "current_citInitial": 1,
   "eqLabelWithNumbers": true,
   "eqNumInitial": 1,
   "hotkeys": {
    "equation": "Ctrl-E",
    "itemize": "Ctrl-I"
   },
   "labels_anchors": false,
   "latex_user_defs": false,
   "report_style_numbering": false,
   "user_envs_cfg": false
  }
 },
 "nbformat": 4,
 "nbformat_minor": 0
}

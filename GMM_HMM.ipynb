{
 "cells": [
  {
   "cell_type": "code",
   "execution_count": 36,
   "metadata": {
    "collapsed": false
   },
   "outputs": [],
   "source": [
    "import numpy as np\n",
    "from matplotlib import pyplot as plt\n",
    "from __future__ import division\n",
    "from numpy.random import multinomial, multivariate_normal\n",
    "import MFCC\n",
    "from scipy.io import wavfile\n",
    "import os\n",
    "import gmmhmm\n",
    "%matplotlib inline"
   ]
  },
  {
   "cell_type": "code",
   "execution_count": 7,
   "metadata": {
    "collapsed": true
   },
   "outputs": [],
   "source": [
    "def sample_gmmhmm(gmmhmm, n_sim):\n",
    "    \"\"\"\n",
    "    Simulates sampling from a gmmhmm with N states and M observation types from K-dimensional gaussians\n",
    "    \n",
    "    Inputs:\n",
    "    gmmhmm: A list of the form [A, weights, means, covars, pi] containing component parts of a gmmhmm, as follows:\n",
    "        --A: Row stochastic NxN matrix giving transition probabilities between gmmhmm states\n",
    "        --weights: Row stochastic MxN matrix giving where weights[i,j] gives the probability of observing j in state i\n",
    "                    (In other words, the probability of drawing j from our multinomial)\n",
    "        --means: NxMxK array of the mean vectors for each of the gaussians for each of the hidden states\n",
    "        --covars:  NxMxMxK Array of the covariance matrices of the gaussians for each of the hidden states\n",
    "        --pi:  Stochastic Nx1 array detailing probabilities of being in each of our initial states\n",
    "        \n",
    "    n_sim:  How many draws to take from our GMMHMM model\n",
    "        \n",
    "    Returns:\n",
    "    states:  n_sim x 1 array of states\n",
    "    obs:  n_sim x K array of observations \n",
    "    \"\"\"\n",
    "    #Extract necessary pieces of GMMHMM from function parameters\n",
    "    A = gmmhmm[0]\n",
    "    weights = gmmhmm[1]\n",
    "    means = gmmhmm[2]\n",
    "    covars = gmmhmm[3]\n",
    "    pi = gmmhmm[4]\n",
    "    \n",
    "    states = []\n",
    "    obs = []\n",
    "    \n",
    "    for i in xrange(n_sim):\n",
    "        state = np.argmax(multinomial(1, pi))\n",
    "        draw = np.argmax(multinomial(1, weights[state,:]))\n",
    "        ob = multivariate_normal(means[state, draw, :], covars[state, draw, :,:])\n",
    "        states.append(state)\n",
    "        obs.append(ob)\n",
    "        pi = A[state,:]\n",
    "        \n",
    "    return np.array(states), np.array(obs)"
   ]
  },
  {
   "cell_type": "code",
   "execution_count": 8,
   "metadata": {
    "collapsed": false
   },
   "outputs": [
    {
     "name": "stdout",
     "output_type": "stream",
     "text": [
      "(array([0, 1, 1, 0, 0, 1, 0, 1, 1, 1, 1, 1, 1, 1, 1, 1, 1, 1, 0, 0, 1, 1, 0,\n",
      "       1, 1, 1, 1, 1, 1, 1, 1, 1, 1, 1, 1, 1, 1, 1, 1, 1, 1, 1, 1, 1, 1, 1,\n",
      "       1, 0, 0, 0, 0, 0, 0, 1, 1, 0, 0, 0, 1, 1, 0, 0, 0, 0, 0, 0, 1, 1, 1,\n",
      "       1, 1, 1, 1, 1, 1, 1, 1, 1, 1, 1, 1, 1, 0, 0, 1, 1, 1, 1, 1, 1, 1, 1,\n",
      "       1, 1, 1, 0, 0, 0, 1, 1]), array([[ -2.84565595e+00,   1.18650204e+01,  -1.98924441e+00],\n",
      "       [ -1.20231620e+01,  -1.92924345e+00,   1.57936434e+01],\n",
      "       [ -2.96768115e+00,   2.73922876e+00,   2.69741021e+01],\n",
      "       [  4.13052563e+00,   1.46359454e+01,  -3.67157272e+00],\n",
      "       [ -3.37795788e+00,   1.45277616e+01,  -6.42526224e-01],\n",
      "       [  1.29777400e+01,  -3.29602470e+01,  -1.46424788e+00],\n",
      "       [  2.73078740e-02,   1.38438440e+01,  -5.67121907e+00],\n",
      "       [ -1.43734222e+01,  -1.40921147e+00,   1.41494686e+01],\n",
      "       [ -5.37836389e+00,   5.89908052e+00,   2.54008046e+01],\n",
      "       [  1.65605768e+01,  -3.35877118e+01,  -1.65305366e-01],\n",
      "       [ -1.21681008e+01,  -2.60682080e+00,   1.35006031e+01],\n",
      "       [ -1.64945320e+01,  -3.99331981e+00,   1.47373585e+01],\n",
      "       [  1.59738255e+01,  -3.30254395e+01,  -7.56103758e-01],\n",
      "       [  1.94156757e+01,  -2.98910987e+01,   1.16595857e-02],\n",
      "       [  1.25369475e+01,  -3.29065534e+01,   8.30472144e-01],\n",
      "       [  1.48488118e+01,  -3.06523454e+01,  -2.03778959e-01],\n",
      "       [ -9.00090875e+00,  -3.78270995e+00,   1.41677872e+01],\n",
      "       [ -1.34067950e+01,  -2.24696057e+00,   1.24711558e+01],\n",
      "       [  1.39664902e+00,   1.94906859e+01,  -7.48989739e+00],\n",
      "       [  2.56687170e+00,   1.64959537e+01,  -2.03244694e+00],\n",
      "       [  1.53375378e+01,  -3.13212062e+01,  -5.67017251e+00],\n",
      "       [ -1.27970314e+01,  -1.94271286e+00,   1.63868454e+01],\n",
      "       [  4.62528689e+00,  -9.62296047e+00,  -1.04694666e+01],\n",
      "       [ -1.14013756e+01,  -9.90849194e-01,   1.25176091e+01],\n",
      "       [ -1.16093180e+01,  -6.79393201e-01,   1.55599037e+01],\n",
      "       [ -1.29970720e+01,  -1.05960626e+00,   1.33873097e+01],\n",
      "       [  1.64518598e+01,  -3.26194676e+01,  -6.81619915e-01],\n",
      "       [  1.43941859e+01,  -3.21035716e+01,   5.23833573e-03],\n",
      "       [ -9.93109911e+00,  -2.16382822e+00,   1.21953425e+01],\n",
      "       [  1.41365962e+01,  -3.19879608e+01,   1.44379365e+00],\n",
      "       [ -1.21280883e+01,  -2.35087575e+00,   1.49296080e+01],\n",
      "       [  1.84507023e+01,  -3.50484747e+01,  -2.42216756e-02],\n",
      "       [  1.37043347e+01,  -3.32219922e+01,   2.22356168e+00],\n",
      "       [ -1.24952283e+01,  -3.46950202e+00,   1.36580763e+01],\n",
      "       [ -1.18453827e+01,  -2.13862757e+00,   1.43811012e+01],\n",
      "       [  1.72895305e+01,  -3.14304429e+01,  -5.35045741e-01],\n",
      "       [  1.85209264e+01,  -3.06441035e+01,  -4.41711750e-01],\n",
      "       [ -1.35345993e+01,  -4.12566593e+00,   1.33692378e+01],\n",
      "       [  1.31905715e+01,  -3.10498169e+01,   2.18699860e+00],\n",
      "       [ -1.19428785e+01,  -9.89542320e-01,   1.46749973e+01],\n",
      "       [ -9.11295190e+00,  -2.90659313e+00,   1.71134210e+01],\n",
      "       [  1.57766265e+01,  -3.26883607e+01,   1.25564292e+00],\n",
      "       [ -1.38169485e+01,  -1.67178042e-01,   1.54399913e+01],\n",
      "       [ -1.05518058e+01,   1.05729469e+00,   1.61045625e+01],\n",
      "       [  1.56821777e+01,  -3.44568504e+01,   2.12403994e+00],\n",
      "       [  1.68323430e+01,  -3.26483805e+01,   7.05961336e-01],\n",
      "       [ -1.30236505e+01,   9.85015590e-02,   1.16699018e+01],\n",
      "       [ -1.04505000e+00,   1.56625570e+01,  -2.20923759e+00],\n",
      "       [  2.71148606e+00,   1.95243253e+01,  -4.97199066e+00],\n",
      "       [  5.67980766e+00,  -9.39476417e+00,  -9.83722254e+00],\n",
      "       [  7.13424062e+00,  -1.08238695e+01,  -1.45099289e+01],\n",
      "       [ -4.22831662e-02,  -1.12079667e+01,  -9.51409322e+00],\n",
      "       [  3.44380026e+00,  -8.07381319e+00,  -1.06591998e+01],\n",
      "       [ -1.09494219e+01,  -8.83717059e-01,   1.41555149e+01],\n",
      "       [ -8.93558023e+00,  -1.27728071e+00,   1.65115412e+01],\n",
      "       [ -1.37859855e+01,   2.36940222e+01,   1.58072113e+00],\n",
      "       [ -4.35012358e-01,   1.56801923e+01,  -5.26455315e+00],\n",
      "       [  1.18308842e+00,   1.58788916e+01,  -4.95162301e+00],\n",
      "       [ -1.10032263e+01,  -8.66101595e-01,   1.65061593e+01],\n",
      "       [ -9.54795194e+00,   5.73636662e+00,   1.98427457e+01],\n",
      "       [ -1.98606653e+00,   1.68565819e+01,  -1.87847350e+00],\n",
      "       [  4.00235023e+00,  -1.08947786e+01,  -6.33939779e+00],\n",
      "       [ -4.01735225e+00,  -1.27569656e+01,  -7.28233236e+00],\n",
      "       [ -3.95885941e-01,   2.05656015e+01,  -4.43596495e+00],\n",
      "       [ -1.78934001e+01,   2.13848410e+01,   3.33563224e-01],\n",
      "       [ -2.36212682e+00,   1.44254706e+01,  -4.84196328e+00],\n",
      "       [ -1.73756006e+01,   6.12448813e-01,   1.09698174e+01],\n",
      "       [ -1.23640277e+01,  -2.21096785e+00,   1.38794153e+01],\n",
      "       [ -1.23025452e+01,  -3.09565987e+00,   1.57553555e+01],\n",
      "       [ -9.14774309e+00,  -3.51752217e+00,   1.63124408e+01],\n",
      "       [ -2.97166906e+00,   3.05864147e-01,   2.40724550e+01],\n",
      "       [ -6.30375910e+00,   5.55018509e+00,   2.30604704e+01],\n",
      "       [  1.74422543e+01,  -3.19160551e+01,  -7.81882079e-01],\n",
      "       [ -1.08191499e+01,  -1.81428633e+00,   1.33295458e+01],\n",
      "       [ -3.69490787e+00,  -2.66098329e+00,   1.95570683e+01],\n",
      "       [ -1.23245901e+01,  -9.53226165e-01,   1.70603003e+01],\n",
      "       [ -1.07622935e+01,  -7.59052698e-01,   1.13491727e+01],\n",
      "       [ -1.13066168e+01,  -1.26805995e+00,   1.34026143e+01],\n",
      "       [ -1.00352238e+01,  -3.88027584e-01,   1.30583174e+01],\n",
      "       [ -1.15335715e+01,  -3.11628108e+00,   1.31445912e+01],\n",
      "       [  1.43022739e+01,  -3.05340865e+01,  -1.33025926e+00],\n",
      "       [  1.66723733e+01,  -2.76310175e+01,   3.65733567e+00],\n",
      "       [  8.21101343e+00,  -1.41379891e+01,  -9.92679216e+00],\n",
      "       [ -2.72250630e+00,   1.49418759e+01,  -2.26969241e-01],\n",
      "       [ -1.22442873e+01,  -4.51729535e-01,   1.27513862e+01],\n",
      "       [ -1.11198899e+01,  -2.31158316e+00,   1.56043038e+01],\n",
      "       [  1.32366066e+01,  -3.35672238e+01,   1.75191765e+00],\n",
      "       [ -1.17930096e+01,   1.90343682e-01,   1.26755625e+01],\n",
      "       [ -1.34477210e+01,  -1.59610806e+00,   1.14525613e+01],\n",
      "       [ -1.25136562e+01,  -2.91019310e+00,   1.40781245e+01],\n",
      "       [ -6.77804354e+00,  -3.48858628e+00,   2.59303563e+01],\n",
      "       [ -1.33781269e+01,   1.41045234e-01,   1.37575931e+01],\n",
      "       [ -2.55553521e+00,   3.48656542e+00,   2.45996310e+01],\n",
      "       [  1.15290640e+01,  -3.22935949e+01,   3.09191924e+00],\n",
      "       [  1.60177944e+01,  -3.47996138e+01,  -1.30698573e-01],\n",
      "       [ -1.13108968e+00,   1.66498271e+01,  -3.30884572e+00],\n",
      "       [ -1.56820705e+01,   2.04245629e+01,   2.82869993e+00],\n",
      "       [  3.02693512e+00,  -1.33585085e+01,  -8.81514026e+00],\n",
      "       [ -1.38981018e+01,   1.29671083e+00,   1.56133516e+01],\n",
      "       [ -1.25816229e+01,  -1.72308728e+00,   1.51852806e+01]]))\n"
     ]
    }
   ],
   "source": [
    "A = np.array([[.65, .35], [.15, .85]])\n",
    "pi = np.array([.8, .2])\n",
    "weights = np.array([[.7, .2, .1], [.1, .5, .4]])\n",
    "means1 = np.array([[0., 17., -4.], [5., -12., -8.], [-16., 22., 2.]])\n",
    "means2 = np.array([[-5., 3., 23.], [-12., -2., 14.], [15., -32., 0.]])\n",
    "means = np.array([means1, means2])\n",
    "covars1 = np.array([5*np.eye(3), 7*np.eye(3), np.eye(3)])\n",
    "covars2 = np.array([10*np.eye(3), 3*np.eye(3), 4*np.eye(3)])\n",
    "covars = np.array([covars1, covars2])\n",
    "gmmhmm = [A, weights, means, covars, pi]\n",
    "\n",
    "#print sample_gmmhmm(gmmhmm, 100)"
   ]
  },
  {
   "cell_type": "code",
   "execution_count": 35,
   "metadata": {
    "collapsed": false
   },
   "outputs": [
    {
     "name": "stdout",
     "output_type": "stream",
     "text": [
      "['.DS_Store', 'Biology (1).wav', 'Biology (10).wav', 'Biology (11).wav', 'Biology (12).wav', 'Biology (13).wav', 'Biology (14).wav', 'Biology (15).wav', 'Biology (16).wav', 'Biology (17).wav', 'Biology (18).wav', 'Biology (19).wav', 'Biology (2).wav', 'Biology (20).wav', 'Biology (21).wav', 'Biology (22).wav', 'Biology (23).wav', 'Biology (24).wav', 'Biology (25).wav', 'Biology (26).wav', 'Biology (27).wav', 'Biology (28).wav', 'Biology (29).wav', 'Biology (3).wav', 'Biology (30).wav', 'Biology (4).wav', 'Biology (5).wav', 'Biology (6).wav', 'Biology (7).wav', 'Biology (8).wav', 'Biology (9).wav', 'Biology00.wav', 'Mathematics (1).wav', 'Mathematics (10).wav', 'Mathematics (11).wav', 'Mathematics (12).wav', 'Mathematics (13).wav', 'Mathematics (14).wav', 'Mathematics (15).wav', 'Mathematics (16).wav', 'Mathematics (17).wav', 'Mathematics (18).wav', 'Mathematics (19).wav', 'Mathematics (2).wav', 'Mathematics (20).wav', 'Mathematics (21).wav', 'Mathematics (22).wav', 'Mathematics (23).wav', 'Mathematics (24).wav', 'Mathematics (25).wav', 'Mathematics (26).wav', 'Mathematics (27).wav', 'Mathematics (28).wav', 'Mathematics (29).wav', 'Mathematics (3).wav', 'Mathematics (30).wav', 'Mathematics (4).wav', 'Mathematics (5).wav', 'Mathematics (6).wav', 'Mathematics (7).wav', 'Mathematics (8).wav', 'Mathematics (9).wav', 'Mathematics00.wav', 'PoliticalScience (1).wav', 'PoliticalScience (10).wav', 'PoliticalScience (11).wav', 'PoliticalScience (12).wav', 'PoliticalScience (13).wav', 'PoliticalScience (14).wav', 'PoliticalScience (15).wav', 'PoliticalScience (16).wav', 'PoliticalScience (17).wav', 'PoliticalScience (18).wav', 'PoliticalScience (19).wav', 'PoliticalScience (2).wav', 'PoliticalScience (20).wav', 'PoliticalScience (21).wav', 'PoliticalScience (22).wav', 'PoliticalScience (23).wav', 'PoliticalScience (24).wav', 'PoliticalScience (25).wav', 'PoliticalScience (26).wav', 'PoliticalScience (27).wav', 'PoliticalScience (28).wav', 'PoliticalScience (29).wav', 'PoliticalScience (3).wav', 'PoliticalScience (30).wav', 'PoliticalScience (4).wav', 'PoliticalScience (5).wav', 'PoliticalScience (6).wav', 'PoliticalScience (7).wav', 'PoliticalScience (8).wav', 'PoliticalScience (9).wav', 'PoliticalScience.wav', 'Psychology (1).wav', 'Psychology (10).wav', 'Psychology (11).wav', 'Psychology (12).wav', 'Psychology (13).wav', 'Psychology (14).wav', 'Psychology (15).wav', 'Psychology (16).wav', 'Psychology (17).wav', 'Psychology (18).wav', 'Psychology (19).wav', 'Psychology (2).wav', 'Psychology (20).wav', 'Psychology (21).wav', 'Psychology (22).wav', 'Psychology (23).wav', 'Psychology (24).wav', 'Psychology (25).wav', 'Psychology (26).wav', 'Psychology (27).wav', 'Psychology (28).wav', 'Psychology (29).wav', 'Psychology (3).wav', 'Psychology (30).wav', 'Psychology (4).wav', 'Psychology (5).wav', 'Psychology (6).wav', 'Psychology (7).wav', 'Psychology (8).wav', 'Psychology (9).wav', 'Psychology00.wav', 'Statistics (1).wav', 'Statistics (10).wav', 'Statistics (11).wav', 'Statistics (12).wav', 'Statistics (13).wav', 'Statistics (14).wav', 'Statistics (15).wav', 'Statistics (16).wav', 'Statistics (17).wav', 'Statistics (18).wav', 'Statistics (19).wav', 'Statistics (2).wav', 'Statistics (20).wav', 'Statistics (21).wav', 'Statistics (22).wav', 'Statistics (23).wav', 'Statistics (24).wav', 'Statistics (25).wav', 'Statistics (26).wav', 'Statistics (27).wav', 'Statistics (28).wav', 'Statistics (29).wav', 'Statistics (3).wav', 'Statistics (30).wav', 'Statistics (4).wav', 'Statistics (5).wav', 'Statistics (6).wav', 'Statistics (7).wav', 'Statistics (8).wav', 'Statistics (9).wav', 'Statistics00.wav']\n"
     ]
    },
    {
     "data": {
      "image/png": "[encoded data removed]",
      "text/plain": [
       "<matplotlib.figure.Figure at 0x109502e10>"
      ]
     },
     "metadata": {},
     "output_type": "display_data"
    }
   ],
   "source": [
    "stats = []\n",
    "psych = []\n",
    "bio = []\n",
    "math = []\n",
    "poly_sci = []\n",
    "\n",
    "for i in xrange(1,31):\n",
    "    stats.append(MFCC.extract(wavfile.read(\"./audio_files/Statistics ({0}).wav\".format(i))[1]))\n",
    "    bio.append(MFCC.extract(wavfile.read(\"./audio_files/Biology ({0}).wav\".format(i))[1]))\n",
    "    math.append(MFCC.extract(wavfile.read(\"./audio_files/Mathematics ({0}).wav\".format(i))[1]))\n",
    "    psych.append(MFCC.extract(wavfile.read(\"./audio_files/Psychology ({0}).wav\".format(i))[1]))\n",
    "    poly_sci.append(MFCC.extract(wavfile.read(\"./audio_files/PoliticalScience ({0}).wav\".format(i))[1]))"
   ]
  },
  {
   "cell_type": "code",
   "execution_count": 38,
   "metadata": {
    "collapsed": false
   },
   "outputs": [
    {
     "ename": "AttributeError",
     "evalue": "'module' object has no attribute 'initialize'",
     "output_type": "error",
     "traceback": [
      "\u001b[0;31m---------------------------------------------------------------------------\u001b[0m",
      "\u001b[0;31mAttributeError\u001b[0m                            Traceback (most recent call last)",
      "\u001b[0;32m<ipython-input-38-e8deb78dde8e>\u001b[0m in \u001b[0;36m<module>\u001b[0;34m()\u001b[0m\n\u001b[0;32m----> 1\u001b[0;31m \u001b[0mstartprob\u001b[0m\u001b[0;34m,\u001b[0m \u001b[0mtransmat\u001b[0m \u001b[0;34m=\u001b[0m \u001b[0mgmmhmm\u001b[0m\u001b[0;34m.\u001b[0m\u001b[0minitialize\u001b[0m\u001b[0;34m(\u001b[0m\u001b[0;36m5\u001b[0m\u001b[0;34m)\u001b[0m\u001b[0;34m\u001b[0m\u001b[0m\n\u001b[0m",
      "\u001b[0;31mAttributeError\u001b[0m: 'module' object has no attribute 'initialize'"
     ]
    }
   ],
   "source": [
    "startprob, transmat = gmmhmm.initialize(5)"
   ]
  },
  {
   "cell_type": "code",
   "execution_count": null,
   "metadata": {
    "collapsed": true
   },
   "outputs": [],
   "source": []
  }
 ],
 "metadata": {
  "kernelspec": {
   "display_name": "Python 2",
   "language": "python",
   "name": "python2"
  },
  "language_info": {
   "codemirror_mode": {
    "name": "ipython",
    "version": 2
   },
   "file_extension": ".py",
   "mimetype": "text/x-python",
   "name": "python",
   "nbconvert_exporter": "python",
   "pygments_lexer": "ipython2",
   "version": "2.7.11"
  }
 },
 "nbformat": 4,
 "nbformat_minor": 0
}

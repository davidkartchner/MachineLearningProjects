{
 "cells": [
  {
   "cell_type": "markdown",
   "metadata": {
    "run_control": {
     "frozen": false,
     "read_only": false
    }
   },
   "source": [
    "# Example for Logistic Regression\n",
    "## Jan 12, 2018"
   ]
  },
  {
   "cell_type": "code",
   "execution_count": 1,
   "metadata": {
    "ExecuteTime": {
     "end_time": "2018-01-12T16:55:51.873040Z",
     "start_time": "2018-01-12T16:55:43.103652Z"
    },
    "collapsed": false
   },
   "outputs": [
    {
     "name": "stderr",
     "output_type": "stream",
     "text": [
      "/Users/davidspencerkartchner/anaconda/envs/py36/lib/python3.6/site-packages/statsmodels/compat/pandas.py:56: FutureWarning: The pandas.core.datetools module is deprecated and will be removed in a future version. Please use the pandas.tseries module instead.\n",
      "  from pandas.core import datetools\n"
     ]
    }
   ],
   "source": [
    "import pandas as pd\n",
    "import statsmodels.formula.api as smf\n",
    "import statsmodels.api as sm\n",
    "import numpy as np\n",
    "from matplotlib import pyplot as plt\n",
    "%matplotlib inline"
   ]
  },
  {
   "cell_type": "markdown",
   "metadata": {},
   "source": [
    "### Read in and preprocess data"
   ]
  },
  {
   "cell_type": "code",
   "execution_count": 2,
   "metadata": {
    "ExecuteTime": {
     "end_time": "2018-01-12T16:55:52.062451Z",
     "start_time": "2018-01-12T16:55:51.880523Z"
    },
    "collapsed": false
   },
   "outputs": [
    {
     "data": {
      "text/html": [
       "<div>\n",
       "<style>\n",
       "    .dataframe thead tr:only-child th {\n",
       "        text-align: right;\n",
       "    }\n",
       "\n",
       "    .dataframe thead th {\n",
       "        text-align: left;\n",
       "    }\n",
       "\n",
       "    .dataframe tbody tr th {\n",
       "        vertical-align: top;\n",
       "    }\n",
       "</style>\n",
       "<table border=\"1\" class=\"dataframe\">\n",
       "  <thead>\n",
       "    <tr style=\"text-align: right;\">\n",
       "      <th></th>\n",
       "      <th>low</th>\n",
       "      <th>age</th>\n",
       "      <th>mother_wt</th>\n",
       "      <th>race</th>\n",
       "      <th>smoke</th>\n",
       "      <th>high_bp</th>\n",
       "      <th>ui</th>\n",
       "      <th>first_tri_visits</th>\n",
       "      <th>prev_prem_lbr</th>\n",
       "      <th>bwt</th>\n",
       "    </tr>\n",
       "  </thead>\n",
       "  <tbody>\n",
       "    <tr>\n",
       "      <th>0</th>\n",
       "      <td>0</td>\n",
       "      <td>19</td>\n",
       "      <td>182</td>\n",
       "      <td>black</td>\n",
       "      <td>0</td>\n",
       "      <td>0</td>\n",
       "      <td>1</td>\n",
       "      <td>0</td>\n",
       "      <td>0</td>\n",
       "      <td>2523</td>\n",
       "    </tr>\n",
       "    <tr>\n",
       "      <th>1</th>\n",
       "      <td>0</td>\n",
       "      <td>33</td>\n",
       "      <td>155</td>\n",
       "      <td>other</td>\n",
       "      <td>0</td>\n",
       "      <td>0</td>\n",
       "      <td>0</td>\n",
       "      <td>1</td>\n",
       "      <td>0</td>\n",
       "      <td>2551</td>\n",
       "    </tr>\n",
       "    <tr>\n",
       "      <th>2</th>\n",
       "      <td>0</td>\n",
       "      <td>20</td>\n",
       "      <td>105</td>\n",
       "      <td>white</td>\n",
       "      <td>1</td>\n",
       "      <td>0</td>\n",
       "      <td>0</td>\n",
       "      <td>1</td>\n",
       "      <td>0</td>\n",
       "      <td>2557</td>\n",
       "    </tr>\n",
       "    <tr>\n",
       "      <th>3</th>\n",
       "      <td>0</td>\n",
       "      <td>21</td>\n",
       "      <td>108</td>\n",
       "      <td>white</td>\n",
       "      <td>1</td>\n",
       "      <td>0</td>\n",
       "      <td>1</td>\n",
       "      <td>1</td>\n",
       "      <td>0</td>\n",
       "      <td>2594</td>\n",
       "    </tr>\n",
       "    <tr>\n",
       "      <th>4</th>\n",
       "      <td>0</td>\n",
       "      <td>18</td>\n",
       "      <td>107</td>\n",
       "      <td>white</td>\n",
       "      <td>1</td>\n",
       "      <td>0</td>\n",
       "      <td>1</td>\n",
       "      <td>0</td>\n",
       "      <td>0</td>\n",
       "      <td>2600</td>\n",
       "    </tr>\n",
       "  </tbody>\n",
       "</table>\n",
       "</div>"
      ],
      "text/plain": [
       "   low  age  mother_wt   race  smoke  high_bp  ui  first_tri_visits  \\\n",
       "0    0   19        182  black      0        0   1                 0   \n",
       "1    0   33        155  other      0        0   0                 1   \n",
       "2    0   20        105  white      1        0   0                 1   \n",
       "3    0   21        108  white      1        0   1                 1   \n",
       "4    0   18        107  white      1        0   1                 0   \n",
       "\n",
       "   prev_prem_lbr   bwt  \n",
       "0              0  2523  \n",
       "1              0  2551  \n",
       "2              0  2557  \n",
       "3              0  2594  \n",
       "4              0  2600  "
      ]
     },
     "execution_count": 2,
     "metadata": {},
     "output_type": "execute_result"
    }
   ],
   "source": [
    "data = pd.read_csv('birthweight.tsv', \n",
    "                   delim_whitespace=True, \n",
    "                   header=0,\n",
    "                   names = ['low','age','mother_wt','race','smoke',\n",
    "                            'high_bp','ui','first_tri_visits',\n",
    "                            'prev_prem_lbr','bwt'])\n",
    "data.head()"
   ]
  },
  {
   "cell_type": "code",
   "execution_count": 3,
   "metadata": {
    "ExecuteTime": {
     "end_time": "2018-01-12T16:55:52.180250Z",
     "start_time": "2018-01-12T16:55:52.066023Z"
    },
    "collapsed": false
   },
   "outputs": [
    {
     "data": {
      "text/html": [
       "<div>\n",
       "<style>\n",
       "    .dataframe thead tr:only-child th {\n",
       "        text-align: right;\n",
       "    }\n",
       "\n",
       "    .dataframe thead th {\n",
       "        text-align: left;\n",
       "    }\n",
       "\n",
       "    .dataframe tbody tr th {\n",
       "        vertical-align: top;\n",
       "    }\n",
       "</style>\n",
       "<table border=\"1\" class=\"dataframe\">\n",
       "  <thead>\n",
       "    <tr style=\"text-align: right;\">\n",
       "      <th></th>\n",
       "      <th>const</th>\n",
       "      <th>age</th>\n",
       "      <th>mother_wt</th>\n",
       "      <th>smoke</th>\n",
       "      <th>high_bp</th>\n",
       "      <th>ui</th>\n",
       "      <th>first_tri_visits</th>\n",
       "      <th>prev_prem_lbr</th>\n",
       "      <th>race_other</th>\n",
       "      <th>race_white</th>\n",
       "    </tr>\n",
       "  </thead>\n",
       "  <tbody>\n",
       "    <tr>\n",
       "      <th>27</th>\n",
       "      <td>1.0</td>\n",
       "      <td>29</td>\n",
       "      <td>150</td>\n",
       "      <td>0</td>\n",
       "      <td>0</td>\n",
       "      <td>0</td>\n",
       "      <td>1</td>\n",
       "      <td>0</td>\n",
       "      <td>0</td>\n",
       "      <td>1</td>\n",
       "    </tr>\n",
       "    <tr>\n",
       "      <th>8</th>\n",
       "      <td>1.0</td>\n",
       "      <td>29</td>\n",
       "      <td>123</td>\n",
       "      <td>1</td>\n",
       "      <td>0</td>\n",
       "      <td>0</td>\n",
       "      <td>1</td>\n",
       "      <td>0</td>\n",
       "      <td>0</td>\n",
       "      <td>1</td>\n",
       "    </tr>\n",
       "    <tr>\n",
       "      <th>107</th>\n",
       "      <td>1.0</td>\n",
       "      <td>22</td>\n",
       "      <td>169</td>\n",
       "      <td>0</td>\n",
       "      <td>0</td>\n",
       "      <td>0</td>\n",
       "      <td>0</td>\n",
       "      <td>0</td>\n",
       "      <td>0</td>\n",
       "      <td>1</td>\n",
       "    </tr>\n",
       "    <tr>\n",
       "      <th>184</th>\n",
       "      <td>1.0</td>\n",
       "      <td>28</td>\n",
       "      <td>95</td>\n",
       "      <td>1</td>\n",
       "      <td>0</td>\n",
       "      <td>0</td>\n",
       "      <td>1</td>\n",
       "      <td>0</td>\n",
       "      <td>0</td>\n",
       "      <td>1</td>\n",
       "    </tr>\n",
       "    <tr>\n",
       "      <th>72</th>\n",
       "      <td>1.0</td>\n",
       "      <td>23</td>\n",
       "      <td>115</td>\n",
       "      <td>1</td>\n",
       "      <td>0</td>\n",
       "      <td>0</td>\n",
       "      <td>1</td>\n",
       "      <td>0</td>\n",
       "      <td>1</td>\n",
       "      <td>0</td>\n",
       "    </tr>\n",
       "  </tbody>\n",
       "</table>\n",
       "</div>"
      ],
      "text/plain": [
       "     const  age  mother_wt  smoke  high_bp  ui  first_tri_visits  \\\n",
       "27     1.0   29        150      0        0   0                 1   \n",
       "8      1.0   29        123      1        0   0                 1   \n",
       "107    1.0   22        169      0        0   0                 0   \n",
       "184    1.0   28         95      1        0   0                 1   \n",
       "72     1.0   23        115      1        0   0                 1   \n",
       "\n",
       "     prev_prem_lbr  race_other  race_white  \n",
       "27               0           0           1  \n",
       "8                0           0           1  \n",
       "107              0           0           1  \n",
       "184              0           0           1  \n",
       "72               0           1           0  "
      ]
     },
     "execution_count": 3,
     "metadata": {},
     "output_type": "execute_result"
    }
   ],
   "source": [
    "# Clean data and add necessary columns\n",
    "data = pd.get_dummies(data, columns=['race'], drop_first=True)\n",
    "\n",
    "# Shuffle dataframe\n",
    "data = data.sample(frac=1)\n",
    "\n",
    "# Make dependent variable\n",
    "y = data.low.as_matrix()\n",
    "\n",
    "#Drop columns that don't matter\n",
    "data = data.drop(['bwt','low'], axis=1)\n",
    "\n",
    "# Add column for constant\n",
    "x = sm.add_constant(data)\n",
    "\n",
    "x.head()"
   ]
  },
  {
   "cell_type": "markdown",
   "metadata": {
    "ExecuteTime": {
     "end_time": "2018-01-12T05:46:18.228167Z",
     "start_time": "2018-01-12T05:46:18.159894Z"
    }
   },
   "source": [
    "### Build Logit model with statsmodels\n",
    "\n",
    "First, we try a simple model based on race of mother"
   ]
  },
  {
   "cell_type": "code",
   "execution_count": 4,
   "metadata": {
    "ExecuteTime": {
     "end_time": "2018-01-12T16:55:53.137728Z",
     "start_time": "2018-01-12T16:55:52.194091Z"
    },
    "collapsed": false
   },
   "outputs": [
    {
     "name": "stdout",
     "output_type": "stream",
     "text": [
      "Optimization terminated successfully.\n",
      "         Current function value: 0.607570\n",
      "         Iterations 5\n",
      "                           Logit Regression Results                           \n",
      "==============================================================================\n",
      "Dep. Variable:                      y   No. Observations:                  189\n",
      "Model:                          Logit   Df Residuals:                      186\n",
      "Method:                           MLE   Df Model:                            2\n",
      "Date:                Fri, 12 Jan 2018   Pseudo R-squ.:                 0.02135\n",
      "Time:                        09:55:53   Log-Likelihood:                -114.83\n",
      "converged:                       True   LL-Null:                       -117.34\n",
      "                                        LLR p-value:                   0.08166\n",
      "==============================================================================\n",
      "                 coef    std err          z      P>|z|      [0.025      0.975]\n",
      "------------------------------------------------------------------------------\n",
      "const         -0.3102      0.397     -0.781      0.435      -1.088       0.468\n",
      "race_other    -0.2086      0.471     -0.443      0.657      -1.131       0.714\n",
      "race_white    -0.8448      0.463     -1.823      0.068      -1.753       0.063\n",
      "==============================================================================\n"
     ]
    }
   ],
   "source": [
    "# Build basic logit model\n",
    "model = sm.Logit(y, x[['const','race_other','race_white']])\n",
    "results = model.fit()\n",
    "print(results.summary())"
   ]
  },
  {
   "cell_type": "markdown",
   "metadata": {
    "ExecuteTime": {
     "end_time": "2018-01-12T05:54:44.655602Z",
     "start_time": "2018-01-12T05:54:44.637828Z"
    }
   },
   "source": [
    "Nothing seems to have a significant affect on whether or not a child is low birthweight.  Let's try adding some other variables"
   ]
  },
  {
   "cell_type": "code",
   "execution_count": 5,
   "metadata": {
    "ExecuteTime": {
     "end_time": "2018-01-12T16:55:53.191484Z",
     "start_time": "2018-01-12T16:55:53.148999Z"
    },
    "collapsed": false
   },
   "outputs": [
    {
     "name": "stdout",
     "output_type": "stream",
     "text": [
      "Optimization terminated successfully.\n",
      "         Current function value: 0.550223\n",
      "         Iterations 6\n",
      "                           Logit Regression Results                           \n",
      "==============================================================================\n",
      "Dep. Variable:                      y   No. Observations:                  189\n",
      "Model:                          Logit   Df Residuals:                      182\n",
      "Method:                           MLE   Df Model:                            6\n",
      "Date:                Fri, 12 Jan 2018   Pseudo R-squ.:                  0.1137\n",
      "Time:                        09:55:53   Log-Likelihood:                -103.99\n",
      "converged:                       True   LL-Null:                       -117.34\n",
      "                                        LLR p-value:                 0.0001657\n",
      "==============================================================================\n",
      "                 coef    std err          z      P>|z|      [0.025      0.975]\n",
      "------------------------------------------------------------------------------\n",
      "const          2.0065      1.225      1.638      0.101      -0.395       4.408\n",
      "race_other    -0.3161      0.537     -0.589      0.556      -1.368       0.736\n",
      "race_white    -1.2322      0.526     -2.345      0.019      -2.262      -0.202\n",
      "age           -0.0222      0.035     -0.636      0.525      -0.091       0.046\n",
      "smoke          1.0679      0.389      2.744      0.006       0.305       1.830\n",
      "mother_wt     -0.0171      0.007     -2.503      0.012      -0.030      -0.004\n",
      "high_bp        1.7293      0.687      2.516      0.012       0.382       3.076\n",
      "==============================================================================\n"
     ]
    }
   ],
   "source": [
    "model = sm.Logit(y,x[['const','race_other','race_white','age','smoke','mother_wt','high_bp']])\n",
    "results = model.fit()\n",
    "print(results.summary())"
   ]
  },
  {
   "cell_type": "markdown",
   "metadata": {},
   "source": [
    "What happens if the mother has a history of premature labor or uterine irritation?"
   ]
  },
  {
   "cell_type": "code",
   "execution_count": 6,
   "metadata": {
    "ExecuteTime": {
     "end_time": "2018-01-12T16:55:53.363121Z",
     "start_time": "2018-01-12T16:55:53.216030Z"
    },
    "collapsed": false
   },
   "outputs": [
    {
     "name": "stdout",
     "output_type": "stream",
     "text": [
      "Optimization terminated successfully.\n",
      "         Current function value: 0.520893\n",
      "         Iterations 6\n",
      "                           Logit Regression Results                           \n",
      "==============================================================================\n",
      "Dep. Variable:                      y   No. Observations:                  189\n",
      "Model:                          Logit   Df Residuals:                      180\n",
      "Method:                           MLE   Df Model:                            8\n",
      "Date:                Fri, 12 Jan 2018   Pseudo R-squ.:                  0.1610\n",
      "Time:                        09:55:53   Log-Likelihood:                -98.449\n",
      "converged:                       True   LL-Null:                       -117.34\n",
      "                                        LLR p-value:                 8.286e-06\n",
      "=================================================================================\n",
      "                    coef    std err          z      P>|z|      [0.025      0.975]\n",
      "---------------------------------------------------------------------------------\n",
      "const             1.8416      1.287      1.431      0.153      -0.681       4.364\n",
      "race_other       -0.4053      0.547     -0.741      0.458      -1.477       0.666\n",
      "race_white       -1.2076      0.532     -2.270      0.023      -2.250      -0.165\n",
      "age              -0.0385      0.038     -1.021      0.307      -0.112       0.035\n",
      "smoke             0.8491      0.408      2.081      0.037       0.049       1.649\n",
      "mother_wt        -0.0148      0.007     -2.105      0.035      -0.029      -0.001\n",
      "high_bp           1.8363      0.703      2.613      0.009       0.459       3.214\n",
      "ui                0.7134      0.463      1.541      0.123      -0.194       1.621\n",
      "prev_prem_lbr     1.2227      0.463      2.641      0.008       0.315       2.130\n",
      "=================================================================================\n"
     ]
    }
   ],
   "source": [
    "model = sm.Logit(y,x[['const','race_other','race_white','age','smoke',\n",
    "                      'mother_wt','high_bp','ui','prev_prem_lbr']])\n",
    "results = model.fit()\n",
    "print(results.summary())"
   ]
  },
  {
   "cell_type": "markdown",
   "metadata": {
    "ExecuteTime": {
     "end_time": "2018-01-12T06:13:28.616665Z",
     "start_time": "2018-01-12T06:13:28.590866Z"
    }
   },
   "source": [
    "**Let's plot the probability as a function of $w^Tx$**"
   ]
  },
  {
   "cell_type": "code",
   "execution_count": 8,
   "metadata": {
    "ExecuteTime": {
     "end_time": "2018-01-12T16:56:14.381414Z",
     "start_time": "2018-01-12T16:56:13.847665Z"
    },
    "collapsed": false
   },
   "outputs": [
    {
     "data": {
      "image/png": "[encoded data removed]",
      "text/plain": [
       "<matplotlib.figure.Figure at 0x11441dd30>"
      ]
     },
     "metadata": {},
     "output_type": "display_data"
    }
   ],
   "source": [
    "# Get values of w^T*x\n",
    "w = results.params.as_matrix()\n",
    "curr_x = x[['const','race_other','race_white','age','smoke',\n",
    "          'mother_wt','high_bp','ui','prev_prem_lbr']].as_matrix()\n",
    "wtx = curr_x @ w\n",
    "\n",
    "# Get predicted probabilities\n",
    "preds = results.predict(x[['const','race_other','race_white','age','smoke',\n",
    "                      'mother_wt','high_bp','ui','prev_prem_lbr']])\n",
    "\n",
    "# Plot results\n",
    "grid_points = np.linspace(wtx.min()-1, wtx.max()+1, 10)\n",
    "plt.figure(figsize=(10,8))\n",
    "plt.title(\"Logistic Regession Predictions\")\n",
    "plt.ylim(-.1,1.1)\n",
    "plt.xlim(wtx.min()-.05, wtx.max()+.05)\n",
    "plt.plot(grid_points, np.zeros_like(grid_points), color='k')\n",
    "plt.plot(grid_points, np.ones_like(grid_points), color='k')\n",
    "plt.plot(grid_points, .5*np.ones_like(grid_points), '--k')\n",
    "plt.scatter(wtx[y==1], preds[y==1], label=\"Pred: y=1\", alpha=.6, color='g')\n",
    "plt.scatter(wtx[y==0], preds[y==0], label='Pred: y=0', alpha=.2, color='r')\n",
    "plt.scatter(wtx, y, label=\"Actual values\", alpha=.5)\n",
    "plt.legend(loc=(1.05, .45))\n",
    "plt.show()"
   ]
  },
  {
   "cell_type": "code",
   "execution_count": null,
   "metadata": {
    "collapsed": true
   },
   "outputs": [],
   "source": []
  }
 ],
 "metadata": {
  "kernelspec": {
   "display_name": "Python [conda env:py36]",
   "language": "python",
   "name": "conda-env-py36-py"
  },
  "language_info": {
   "codemirror_mode": {
    "name": "ipython",
    "version": 3
   },
   "file_extension": ".py",
   "mimetype": "text/x-python",
   "name": "python",
   "nbconvert_exporter": "python",
   "pygments_lexer": "ipython3",
   "version": "3.6.1"
  },
  "latex_envs": {
   "LaTeX_envs_menu_present": true,
   "autocomplete": true,
   "bibliofile": "biblio.bib",
   "cite_by": "apalike",
   "current_citInitial": 1,
   "eqLabelWithNumbers": true,
   "eqNumInitial": 1,
   "hotkeys": {
    "equation": "Ctrl-E",
    "itemize": "Ctrl-I"
   },
   "labels_anchors": false,
   "latex_user_defs": false,
   "report_style_numbering": false,
   "user_envs_cfg": false
  }
 },
 "nbformat": 4,
 "nbformat_minor": 2
}

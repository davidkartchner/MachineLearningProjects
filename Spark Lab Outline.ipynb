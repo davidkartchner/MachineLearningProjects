{
 "cells": [
  {
   "cell_type": "markdown",
   "metadata": {},
   "source": [
    "# Machine Learning Algorithms with Spark\n",
    "Jessica Morrise, Brandon Schoenfeld, Jesse Friedbaum, David Kartchner, Paul Gibby"
   ]
  },
  {
   "cell_type": "markdown",
   "metadata": {},
   "source": [
    "### Section: Cluster Computing with Spark\n",
    "\n",
    "Talk about how the cluster is organized and how to submit applications. Introduce PySpark if this has not been introduced in the previous lab. We are still shaky on this part since, you know, we don't have Spark yet.\n",
    "\n",
    "Examples are located here: http://spark.apache.org/docs/latest/cluster-overview.html,\n",
    "http://spark.apache.org/docs/latest/submitting-applications.html"
   ]
  },
  {
   "cell_type": "markdown",
   "metadata": {},
   "source": [
    "### Section: Machine Learning with the cluster\n",
    "\n",
    "Introduce the Spark ML library. Explain that it has many common machine learning algorithms already implemented and parallelized for the cluster. Again, we are shaky on how difficult this will be to get to work.\n",
    "\n",
    "Examples located here: http://spark.apache.org/docs/latest/mllib-ensembles.html|"
   ]
  },
  {
   "cell_type": "markdown",
   "metadata": {},
   "source": [
    "### Problem 1\n",
    "Make sure you can access the cluster on your own computer. Generate 10E6 points on a line in the plane with Gaussian noise. Run Spark's linear regression algorithm on these points to recover the slope and intercept."
   ]
  },
  {
   "cell_type": "markdown",
   "metadata": {},
   "source": [
    "### Section: Intro to the lab project\n",
    "\n",
    "If students have already see Decision Trees (which they should have), give a brief overview of how a decision tree works and what a random forest is. Point out how parallelization is a great paradigm to use on a random forest, since several decision trees are being trained independently.\n",
    "\n",
    "If the students have not been introduced to Decision Trees, this section of the lab will have to be a lot more in-depth.\n",
    "\n",
    "**Figure: **Graphic of a simple decision tree, which splits customers on a few characteristics that would make them more/less likely to default on a loan.\n",
    "\n",
    "Introduce the API for using Random Forests from the Spark ML library\n",
    "\n",
    "Introduce the data set. The current plan is to use loan data."
   ]
  },
  {
   "cell_type": "markdown",
   "metadata": {},
   "source": [
    "### Section:  Spark Data Format\n",
    "To run in the spark API, data needs to be converted to the proper data type.  Talk about what this data type is, how it works, and how to converta"
   ]
  },
  {
   "cell_type": "markdown",
   "metadata": {},
   "source": [
    "### Problem 2\n",
    "Load the Lending Club data set into a data frame. Separate the data into train and test data. Using the following ML algorithms and the test data, predict whether each customer will default on his or her loan. Compare the results of each."
   ]
  },
  {
   "cell_type": "markdown",
   "metadata": {},
   "source": [
    "### Section: Overfitting\n",
    "\n",
    "Here we want to introduce how overfitting affects a machine learning model. Talk about how training a model too much may make it perform really well on the traning data, but then perform poorly on the test data.\n",
    "\n",
    "**Figure: **Graphic of a function that has been overfitted to noisy data, to illustrate the concept."
   ]
  },
  {
   "cell_type": "markdown",
   "metadata": {},
   "source": [
    "### Problem 3\n",
    "In the random forest model, change the impurity indices and compare how well the RF predicts the training data with how well it predicts the test data. "
   ]
  }
 ],
 "metadata": {
  "kernelspec": {
   "display_name": "Python 2",
   "language": "python",
   "name": "python2"
  },
  "language_info": {
   "codemirror_mode": {
    "name": "ipython",
    "version": 2
   },
   "file_extension": ".py",
   "mimetype": "text/x-python",
   "name": "python",
   "nbconvert_exporter": "python",
   "pygments_lexer": "ipython2",
   "version": "2.7.11"
  }
 },
 "nbformat": 4,
 "nbformat_minor": 0
}

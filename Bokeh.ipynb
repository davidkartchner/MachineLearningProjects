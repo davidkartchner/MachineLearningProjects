{
 "cells": [
  {
   "cell_type": "markdown",
   "metadata": {
    "run_control": {
     "frozen": false,
     "read_only": false
    }
   },
   "source": [
    "# David Kartchner\n",
    "\n",
    "# Lab 10: Bokeh Solutions\n",
    "\n",
    "# 11/7/16"
   ]
  },
  {
   "cell_type": "code",
   "execution_count": 1,
   "metadata": {
    "collapsed": false,
    "run_control": {
     "frozen": false,
     "read_only": false
    }
   },
   "outputs": [
    {
     "name": "stderr",
     "output_type": "stream",
     "text": [
      "/usr/local/anaconda2/lib/python2.7/site-packages/matplotlib/font_manager.py:273: UserWarning: Matplotlib is building the font cache using fc-list. This may take a moment.\n",
      "  warnings.warn('Matplotlib is building the font cache using fc-list. This may take a moment.')\n"
     ]
    }
   ],
   "source": [
    "import pandas as pd\n",
    "import numpy as np\n",
    "import bokeh as bk\n",
    "import pickle\n",
    "from matplotlib import pyplot as plt\n",
    "%matplotlib inline\n",
    "from pyproj import Proj, transform"
   ]
  },
  {
   "cell_type": "markdown",
   "metadata": {
    "run_control": {
     "frozen": false,
     "read_only": false
    }
   },
   "source": [
    "## Problem 1"
   ]
  },
  {
   "cell_type": "markdown",
   "metadata": {
    "run_control": {
     "frozen": false,
     "read_only": false
    }
   },
   "source": [
    "### Load FARS data from pickle files"
   ]
  },
  {
   "cell_type": "code",
   "execution_count": 2,
   "metadata": {
    "collapsed": true,
    "run_control": {
     "frozen": false,
     "read_only": false
    }
   },
   "outputs": [],
   "source": [
    "# accidents10 = pd.read_pickle('fars_data/Accidents/accident10.pickle')\n",
    "# accidents11 = pd.read_pickle('fars_data/Accidents/accident11.pickle')\n",
    "# accidents12 = pd.read_pickle('fars_data/Accidents/accident12.pickle')\n",
    "# accidents13 = pd.read_pickle('fars_data/Accidents/accident13.pickle')\n",
    "# accidents14 = pd.read_pickle('fars_data/Accidents/accident14.pickle')\n",
    "# a_list = [accidents10, accidents11, accidents12, accidents13, accidents14]\n",
    "\n",
    "\n",
    "# drivers10 = pd.read_pickle('fars_data/Person/person10.pickle')\n",
    "# drivers11 = pd.read_pickle('fars_data/Person/person11.pickle')\n",
    "# drivers12 = pd.read_pickle('fars_data/Person/person12.pickle')\n",
    "# drivers13 = pd.read_pickle('fars_data/Person/person13.pickle')\n",
    "# drivers14 = pd.read_pickle('fars_data/Person/person14.pickle')\n",
    "# d_list = [drivers10, drivers11, drivers12, drivers13, drivers14]\n",
    "# drivers = pd.concat([drivers10, drivers11, drivers12, drivers13, drivers14])\n",
    "\n",
    "# vehicles10 = pd.read_pickle('fars_data/Vehicle/vehicle10.pickle')\n",
    "# vehicles11 = pd.read_pickle('fars_data/Vehicle/vehicle11.pickle')\n",
    "# vehicles12 = pd.read_pickle('fars_data/Vehicle/vehicle12.pickle')\n",
    "# vehicles13 = pd.read_pickle('fars_data/Vehicle/vehicle13.pickle')\n",
    "# vehicles14 = pd.read_pickle('fars_data/Vehicle/vehicle14.pickle')\n",
    "# v_list = [vehicles10, vehicles11, vehicles12, vehicles13, vehicles14]\n",
    "# vehicles = pd.concat([vehicles10, vehicles11, vehicles12, vehicles13, vehicles14])\n",
    "\n",
    "# with open('Pickle/id_to_state.pickle') as file:\n",
    "#     id_to_state = pickle.load(file)\n",
    "accidents = pd.read_pickle(\"final_accidents.pickle\")\n",
    "drivers = pd.read_pickle(\"final_drivers.pickle\")"
   ]
  },
  {
   "cell_type": "markdown",
   "metadata": {
    "run_control": {
     "frozen": false,
     "read_only": false
    }
   },
   "source": [
    "### Clean the data as follows:\n",
    "1. Remove all test latitude/longitudes\n",
    "2. Limit columns of accidents file to those we will use in our plot\n",
    "3. Append data from vehicle file on whether people were speeding and call the created column \"SPEEDING\"\n",
    "4. Map state index to letter code for each state"
   ]
  },
  {
   "cell_type": "code",
   "execution_count": 3,
   "metadata": {
    "collapsed": false,
    "run_control": {
     "frozen": false,
     "read_only": false
    }
   },
   "outputs": [
    {
     "name": "stderr",
     "output_type": "stream",
     "text": [
      "/Users/davidspencerkartchner/anaconda/lib/python2.7/site-packages/pandas/core/indexing.py:140: SettingWithCopyWarning: \n",
      "A value is trying to be set on a copy of a slice from a DataFrame\n",
      "\n",
      "See the caveats in the documentation: http://pandas.pydata.org/pandas-docs/stable/indexing.html#indexing-view-versus-copy\n",
      "  self._setitem_with_indexer(indexer, value)\n"
     ]
    },
    {
     "data": {
      "text/plain": [
       "44223"
      ]
     },
     "execution_count": 3,
     "metadata": {},
     "output_type": "execute_result"
    }
   ],
   "source": [
    "# clean_acc = []\n",
    "# for a, v in zip(a_list, v_list):\n",
    "#     a = a.loc[a.LATITUDE<77,['ST_CASE','STATE','LATITUDE','LONGITUD','HOUR','DAY','MONTH','YEAR','DRUNK_DR','WEATHER','FATALS']]\n",
    "#     v.SPEEDREL.loc[v.SPEEDREL>=8]=0\n",
    "#     v.SPEEDREL = (v.SPEEDREL>0).astype(np.int16)\n",
    "#     v = v[['ST_CASE','SPEEDREL']].groupby('ST_CASE', as_index=False).max()\n",
    "#     a = a.merge(v, on='ST_CASE')\n",
    "#     a = a.rename(columns={'SPEEDREL':'SPEEDING'})\n",
    "#     clean_acc.append(a)\n",
    "# accidents = pd.concat(clean_acc)\n",
    "# accidents.loc[accidents.STATE==0,\"STATE\"] = 49\n",
    "# accidents.STATE = accidents.STATE.apply(lambda x: id_to_state[x]) \n",
    "# accidents.shape\n",
    "# accidents.to_pickle(\"final_accidents.pickle\")\n",
    "# accidents.SPEEDING.sum()"
   ]
  },
  {
   "cell_type": "code",
   "execution_count": null,
   "metadata": {
    "collapsed": true,
    "run_control": {
     "frozen": false,
     "read_only": false
    }
   },
   "outputs": [],
   "source": [
    "a=accidents14\n",
    "v=vehicles14"
   ]
  },
  {
   "cell_type": "code",
   "execution_count": null,
   "metadata": {
    "collapsed": true,
    "run_control": {
     "frozen": false,
     "read_only": false
    }
   },
   "outputs": [],
   "source": []
  },
  {
   "cell_type": "markdown",
   "metadata": {
    "run_control": {
     "frozen": false,
     "read_only": false
    }
   },
   "source": [
    "## Problem 2:\n",
    "### Project Latitude and Longitude into X and Y coordinates usable in Bokeh"
   ]
  },
  {
   "cell_type": "code",
   "execution_count": 4,
   "metadata": {
    "collapsed": false,
    "run_control": {
     "frozen": false,
     "read_only": false
    }
   },
   "outputs": [],
   "source": [
    "from_proj = Proj(init=\"epsg:4326\")\n",
    "to_proj = Proj(init=\"epsg:3857\")\n",
    "def convert(longitudes, latitudes):\n",
    "    \"\"\"Converts latlon coordinates to meters.\n",
    "    Inputs:\n",
    "    longitudes (array-like) : array of longitudes\n",
    "    latitudes (array-like) : array of latitudes\n",
    "    Example:\n",
    "    x,y = convert(accidents.LONGITUD, accidents.LATITUDE)\n",
    "    \"\"\"\n",
    "    x_vals = []\n",
    "    y_vals = []\n",
    "    for lon, lat in zip(longitudes, latitudes):\n",
    "        x, y = transform(from_proj, to_proj, lon, lat)\n",
    "        x_vals.append(x)\n",
    "        y_vals.append(y)\n",
    "    return x_vals, y_vals\n",
    "# accidents[\"x\"], accidents[\"y\"] = convert(accidents.LONGITUD, accidents.LATITUDE)"
   ]
  },
  {
   "cell_type": "code",
   "execution_count": 9,
   "metadata": {
    "collapsed": true,
    "run_control": {
     "frozen": false,
     "read_only": false
    }
   },
   "outputs": [],
   "source": [
    "accidents.to_pickle('final_accidents.pickle')"
   ]
  },
  {
   "cell_type": "code",
   "execution_count": null,
   "metadata": {
    "collapsed": true,
    "run_control": {
     "frozen": false,
     "read_only": false
    }
   },
   "outputs": [],
   "source": []
  },
  {
   "cell_type": "markdown",
   "metadata": {
    "run_control": {
     "frozen": false,
     "read_only": false
    }
   },
   "source": [
    "## Problem 3:\n",
    "### Clean the Drivers data as follows:\n",
    "1. Limit data to actual drivers (PER_TYP == 1)\n",
    "2. Manually add year to data\n",
    "3. Append speeding data to driver data"
   ]
  },
  {
   "cell_type": "code",
   "execution_count": 5,
   "metadata": {
    "collapsed": false,
    "run_control": {
     "frozen": false,
     "read_only": false
    }
   },
   "outputs": [],
   "source": [
    "driver_list = []\n",
    "for d, v, year in zip(d_list, v_list, range(2010,2015)):\n",
    "    d[\"YEAR\"] = year\n",
    "    d = d.loc[d.PER_TYP==1,['ST_CASE','VEH_NO','AGE','DRINKING','YEAR']]\n",
    "    v.SPEEDREL = (v.SPEEDREL>0).astype(np.int16)\n",
    "    v = v[['ST_CASE','VEH_NO','SPEEDREL']]\n",
    "    d = d.merge(v, on=['ST_CASE','VEH_NO'])\n",
    "    driver_list.append(d)\n",
    "drivers = pd.concat(driver_list)\n",
    "drivers.to_pickle('final_drivers.pickle')"
   ]
  },
  {
   "cell_type": "markdown",
   "metadata": {
    "run_control": {
     "frozen": false,
     "read_only": false
    }
   },
   "source": [
    "## Problem 4:\n",
    "### Build base for Bokeh map"
   ]
  },
  {
   "cell_type": "code",
   "execution_count": 3,
   "metadata": {
    "collapsed": false,
    "run_control": {
     "frozen": false,
     "read_only": false
    }
   },
   "outputs": [],
   "source": [
    "from bokeh.plotting import figure, output_file, show\n",
    "from bokeh.models import ColumnDataSource\n",
    "from bokeh.plotting import Figure\n",
    "from bokeh.models import WMTSTileSource\n",
    "from bokeh.models import HoverTool, ColumnDataSource\n",
    "\n",
    "output_file(\"my_plot.html\")\n",
    "fig = figure(plot_width=1100, plot_height=650,\n",
    "x_range=(-13000000, -7000000), y_range=(2750000, 6250000), webgl=True)\n",
    "# fig.axis.visible = False\n",
    "STAMEN_TONER_BACKGROUND = WMTSTileSource(\n",
    "url='http://tile.stamen.com/toner-background/{Z}/{X}/{Y}.png',\n",
    "attribution=(\n",
    "'Map tiles by <a href=\"http://stamen.com\">Stamen Design</a>, '\n",
    "'under <a href=\"http://creativecommons.org/licenses/by/3.0\">CC BY 3.0</a>.'\n",
    "'Data by <a href=\"http://openstreetmap.org\">OpenStreetMap</a>, '\n",
    "'under <a href=\"http://www.openstreetmap.org/copyright\">ODbL</a>'\n",
    ")\n",
    ")\n",
    "fig.add_tile(STAMEN_TONER_BACKGROUND)\n",
    "show(fig)"
   ]
  },
  {
   "cell_type": "markdown",
   "metadata": {
    "run_control": {
     "frozen": false,
     "read_only": false
    }
   },
   "source": [
    "## Problem 5:\n",
    "### Add States to map as patches"
   ]
  },
  {
   "cell_type": "code",
   "execution_count": 5,
   "metadata": {
    "collapsed": false,
    "run_control": {
     "frozen": false,
     "read_only": false
    }
   },
   "outputs": [],
   "source": [
    "from bokeh.plotting import figure, output_file, show\n",
    "from bokeh.models import ColumnDataSource\n",
    "from bokeh.plotting import Figure\n",
    "from bokeh.models import WMTSTileSource\n",
    "from bokeh.models import HoverTool, ColumnDataSource\n",
    "with open('Pickle/us_states.pickle') as f:\n",
    "    us_states = pickle.load(f)\n",
    "    \n",
    "fig = figure(plot_width=1100, plot_height=650)    \n",
    "state_xs = [us_states[code][\"lons\"] for code in us_states]\n",
    "state_ys = [us_states[code][\"lats\"] for code in us_states]\n",
    "map_xs, map_ys = convert(state_xs, state_ys)\n",
    "\n",
    "# state_list = [state for state in np.unique(accidents.STATE)]\n",
    "# state_totals = [accidents.loc[accidents.STATE==state].shape[0] for state in state_list]\n",
    "# state_speeding = [float(accidents.loc[(accidents.STATE==state) & (accidents.SPEEDING>0)].shape[0])/tot for state, tot in zip(state_list, state_totals)]\n",
    "# state_drinking = [float(accidents.loc[(accidents.STATE==state) & (accidents.DRUNK_DR>0)].shape[0])/tot for state, tot in zip(state_list, state_totals)]\n",
    "# speeding_pc = [round(i*100, 2) for i in state_speeding]\n",
    "# drinking_pc = [round(i*100, 2) for i in state_drinking]\n",
    "\n",
    "# for i, j, k, l in zip(state_list, state_totals, speeding_pc, drinking_pc):\n",
    "#     print i, j, k, l\n",
    "\n",
    "border_data = {'x':map_xs, 'y':map_ys}#, 'state_name':state_list, 'state_speed':speeding_pc, 'state_drunk':drinking_pc, 'alpha':[0]*len(state_list)}\n",
    "border_source = ColumnDataSource(data = border_data)\n",
    "\n",
    "# fig = figure(plot_width=1100, plot_height=650, webgl=True)\n",
    "bord_plot = fig.patches(xs='x',ys='y',source = border_source, line_width=1, fill_alpha=0) #,fill_alpha='alpha',line_alpha=0, line_width=1, hover_color='blue',hover_alpha=.5, hover_line_color='blue')\n",
    "#fig.add_tools(HoverTool(renderers=[bord_plot], tooltips=[('State', '@state_name'), (\"Speeding%\",\"@state_speed\"+\"%\"), (\"Drunk%\",\"@state_drunk\"+\"%\")]))\n",
    "show(fig)"
   ]
  },
  {
   "cell_type": "code",
   "execution_count": null,
   "metadata": {
    "collapsed": true,
    "run_control": {
     "frozen": false,
     "read_only": false
    }
   },
   "outputs": [],
   "source": [
    "from bokeh.plotting import figure, output_file, show\n",
    "from bokeh.models import ColumnDataSource\n",
    "from bokeh.plotting import Figure\n",
    "from bokeh.models import WMTSTileSource\n",
    "from bokeh.models import HoverTool, ColumnDataSource\n",
    "with open('Pickle/us_states.pickle') as f:\n",
    "    us_states = pickle.load(f)\n",
    "    \n",
    "fig = figure(plot_width=1100, plot_height=650)    \n",
    "state_xs = [us_states[code][\"lons\"] for code in us_states]\n",
    "state_ys = [us_states[code][\"lats\"] for code in us_states]\n",
    "map_xs, map_ys = convert(state_xs, state_ys)\n",
    "\n",
    "border_data = {'x':map_xs, 'y':map_ys}\n",
    "border_source = ColumnDataSource(data = border_data)\n",
    "\n",
    "bord_plot = fig.patches(xs='x',ys='y',source = border_source, line_width=1, fill_alpha=0)\n",
    "\n",
    "show(fig)"
   ]
  },
  {
   "cell_type": "markdown",
   "metadata": {
    "run_control": {
     "frozen": false,
     "read_only": false
    }
   },
   "source": [
    "## Problem 6:\n",
    "### Plot accidents based on cause and severity"
   ]
  },
  {
   "cell_type": "code",
   "execution_count": 8,
   "metadata": {
    "collapsed": false,
    "run_control": {
     "frozen": false,
     "read_only": false
    }
   },
   "outputs": [
    {
     "name": "stderr",
     "output_type": "stream",
     "text": [
      "/Users/davidspencerkartchner/anaconda/lib/python2.7/site-packages/ipykernel/__main__.py:2: SettingWithCopyWarning: \n",
      "A value is trying to be set on a copy of a slice from a DataFrame.\n",
      "Try using .loc[row_indexer,col_indexer] = value instead\n",
      "\n",
      "See the caveats in the documentation: http://pandas.pydata.org/pandas-docs/stable/indexing.html#indexing-view-versus-copy\n",
      "  from ipykernel import kernelapp as app\n",
      "/Users/davidspencerkartchner/anaconda/lib/python2.7/site-packages/ipykernel/__main__.py:4: SettingWithCopyWarning: \n",
      "A value is trying to be set on a copy of a slice from a DataFrame.\n",
      "Try using .loc[row_indexer,col_indexer] = value instead\n",
      "\n",
      "See the caveats in the documentation: http://pandas.pydata.org/pandas-docs/stable/indexing.html#indexing-view-versus-copy\n",
      "/Users/davidspencerkartchner/anaconda/lib/python2.7/site-packages/ipykernel/__main__.py:6: SettingWithCopyWarning: \n",
      "A value is trying to be set on a copy of a slice from a DataFrame.\n",
      "Try using .loc[row_indexer,col_indexer] = value instead\n",
      "\n",
      "See the caveats in the documentation: http://pandas.pydata.org/pandas-docs/stable/indexing.html#indexing-view-versus-copy\n"
     ]
    }
   ],
   "source": [
    "speeding_accidents = accidents.loc[accidents.SPEEDING==1]\n",
    "speeding_accidents[\"r\"] = speeding_accidents.FATALS*100\n",
    "drinking_accidents = accidents.loc[accidents.DRUNK_DR>1]\n",
    "drinking_accidents[\"r\"] = drinking_accidents.FATALS*100\n",
    "other_accidents = accidents.loc[(accidents.SPEEDING==0)&(accidents.DRUNK_DR==0)]\n",
    "other_accidents[\"r\"] = other_accidents.FATALS*100\n",
    "\n",
    "\n",
    "speeding = pd.DataFrame({'x_vals':speeding_accidents.x, 'y_vals':speeding_accidents.y, 'r':speeding_accidents.FATALS*100, 'color':'blue', 'alpha':0.5})\n",
    "drinking = pd.DataFrame({'x_vals':drinking_accidents.x, 'y_vals':drinking_accidents.y, 'r':drinking_accidents.FATALS*100, 'color':'red', 'alpha':0.5})\n",
    "other = pd.DataFrame({'x_vals':other_accidents.x, 'y_vals':other_accidents.y, 'r':other_accidents.FATALS*100, 'color':'yellow', 'alpha':0.5})\n",
    "\n",
    "speeding_source = ColumnDataSource(data=speeding)\n",
    "drinking_source = ColumnDataSource(data=drinking)\n",
    "other_source = ColumnDataSource(data=other)\n",
    "\n",
    "speed_cir = fig.circle(x='x_vals', y='y_vals',radius='r', fill_color='color',fill_alpha='alpha',source=speeding_source,line_color='color')\n",
    "drinking_cir = fig.circle(x='x_vals', y='y_vals',radius='r', fill_color='color',fill_alpha='alpha',source=drinking_source,line_color='color')\n",
    "other_cir = fig.circle(x='x_vals', y='y_vals',radius='r', fill_color='color',fill_alpha='alpha',source=other_source,line_color='color')\n"
   ]
  },
  {
   "cell_type": "code",
   "execution_count": 9,
   "metadata": {
    "collapsed": false,
    "run_control": {
     "frozen": false,
     "read_only": false
    }
   },
   "outputs": [],
   "source": [
    "show(fig)"
   ]
  },
  {
   "cell_type": "code",
   "execution_count": null,
   "metadata": {
    "collapsed": true,
    "run_control": {
     "frozen": false,
     "read_only": false
    }
   },
   "outputs": [],
   "source": []
  }
 ],
 "metadata": {
  "anaconda-cloud": {},
  "kernelspec": {
   "display_name": "Python [default]",
   "language": "python",
   "name": "python2"
  },
  "language_info": {
   "codemirror_mode": {
    "name": "ipython",
    "version": 2
   },
   "file_extension": ".py",
   "mimetype": "text/x-python",
   "name": "python",
   "nbconvert_exporter": "python",
   "pygments_lexer": "ipython2",
   "version": "2.7.13"
  },
  "latex_envs": {
   "LaTeX_envs_menu_present": true,
   "autocomplete": true,
   "bibliofile": "biblio.bib",
   "cite_by": "apalike",
   "current_citInitial": 1,
   "eqLabelWithNumbers": true,
   "eqNumInitial": 1,
   "hotkeys": {
    "equation": "Ctrl-E",
    "itemize": "Ctrl-I"
   },
   "labels_anchors": false,
   "latex_user_defs": false,
   "report_style_numbering": false,
   "user_envs_cfg": false
  }
 },
 "nbformat": 4,
 "nbformat_minor": 0
}

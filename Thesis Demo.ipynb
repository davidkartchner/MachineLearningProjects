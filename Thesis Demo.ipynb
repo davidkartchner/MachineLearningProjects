{
 "cells": [
  {
   "cell_type": "markdown",
   "metadata": {},
   "source": [
    "# Honors Thesis\n",
    "## An Exploratory Study of Biometric Gait Recognition\n",
    "## Compiled by David Kartchner\n",
    "## November 30, 2016"
   ]
  },
  {
   "cell_type": "code",
   "execution_count": 8,
   "metadata": {
    "collapsed": false
   },
   "outputs": [],
   "source": [
    "import numpy as np\n",
    "import pandas as pd\n",
    "from __future__ import division\n",
    "from xgboost import XGBClassifier\n",
    "from sklearn.ensemble import RandomForestClassifier, ExtraTreesClassifier\n",
    "from sklearn.neighbors import KNeighborsClassifier\n",
    "from sklearn.metrics import accuracy_score\n",
    "from matplotlib import pyplot as plt\n",
    "import matplotlib\n",
    "import pywt\n",
    "from scipy.fftpack import fft, ifft\n",
    "from scipy.interpolate import interp1d\n",
    "import seaborn as sns\n",
    "from scipy import stats\n",
    "from biometric_helper import *\n",
    "%matplotlib inline\n",
    "matplotlib.rcParams['figure.figsize'] = (14.0, 7.0)\n",
    "pd.set_option('expand_frame_repr', True)\n",
    "pd.set_option('max_rows',200)"
   ]
  },
  {
   "cell_type": "code",
   "execution_count": 2,
   "metadata": {
    "collapsed": false
   },
   "outputs": [
    {
     "name": "stderr",
     "output_type": "stream",
     "text": [
      "biometric_helper.py:85: SettingWithCopyWarning: \n",
      "A value is trying to be set on a copy of a slice from a DataFrame.\n",
      "Try using .loc[row_indexer,col_indexer] = value instead\n",
      "\n",
      "See the caveats in the documentation: http://pandas.pydata.org/pandas-docs/stable/indexing.html#indexing-view-versus-copy\n",
      "  group[\"Samplerate\"] = 50\n"
     ]
    }
   ],
   "source": [
    "accel_data = clean_data(pd.read_csv('ProjectData.csv'))"
   ]
  },
  {
   "cell_type": "code",
   "execution_count": 3,
   "metadata": {
    "collapsed": false
   },
   "outputs": [
    {
     "name": "stdout",
     "output_type": "stream",
     "text": [
      "(921037, 3)\n"
     ]
    }
   ],
   "source": [
    "print accel_data.shape"
   ]
  },
  {
   "cell_type": "code",
   "execution_count": 4,
   "metadata": {
    "collapsed": false
   },
   "outputs": [
    {
     "name": "stdout",
     "output_type": "stream",
     "text": [
      "Features Created\n"
     ]
    },
    {
     "name": "stderr",
     "output_type": "stream",
     "text": [
      "/Users/davidspencerkartchner/anaconda/lib/python2.7/site-packages/pandas/core/generic.py:2773: SettingWithCopyWarning: \n",
      "A value is trying to be set on a copy of a slice from a DataFrame.\n",
      "Try using .loc[row_indexer,col_indexer] = value instead\n",
      "\n",
      "See the caveats in the documentation: http://pandas.pydata.org/pandas-docs/stable/indexing.html#indexing-view-versus-copy\n",
      "  self[name] = value\n"
     ]
    }
   ],
   "source": [
    "data = feature_extraction(accel_data, split_var=\"JointID\")\n",
    "print \"Features Created\""
   ]
  },
  {
   "cell_type": "code",
   "execution_count": 6,
   "metadata": {
    "collapsed": false
   },
   "outputs": [
    {
     "name": "stderr",
     "output_type": "stream",
     "text": [
      "biometric_helper.py:482: VisibleDeprecationWarning: using a non-integer number instead of an integer will result in an error in the future\n",
      "  test_rows = np.random.choice(num_rows, size=np.floor(.3*num_rows), replace=False)\n"
     ]
    }
   ],
   "source": [
    "train, test = template_split(data, label_col=\"Label\")\n",
    "train_l = train.Label\n",
    "train_f = train.drop(\"Label\",1)\n",
    "test_l = train.Label\n",
    "test_f = train.drop(\"Label\",1)"
   ]
  },
  {
   "cell_type": "code",
   "execution_count": 7,
   "metadata": {
    "collapsed": false
   },
   "outputs": [
    {
     "data": {
      "text/html": [
       "<div>\n",
       "<table border=\"1\" class=\"dataframe\">\n",
       "  <thead>\n",
       "    <tr style=\"text-align: right;\">\n",
       "      <th></th>\n",
       "      <th>Mean</th>\n",
       "      <th>Std</th>\n",
       "      <th>Max</th>\n",
       "      <th>Min</th>\n",
       "      <th>Range</th>\n",
       "      <th>RMS</th>\n",
       "      <th>FDE</th>\n",
       "      <th>0</th>\n",
       "      <th>1</th>\n",
       "      <th>2</th>\n",
       "      <th>3</th>\n",
       "      <th>4</th>\n",
       "      <th>5</th>\n",
       "      <th>6</th>\n",
       "      <th>7</th>\n",
       "      <th>8</th>\n",
       "      <th>9</th>\n",
       "      <th>Sign</th>\n",
       "    </tr>\n",
       "  </thead>\n",
       "  <tbody>\n",
       "    <tr>\n",
       "      <th>count</th>\n",
       "      <td>4302.000000</td>\n",
       "      <td>4302.000000</td>\n",
       "      <td>4302.000000</td>\n",
       "      <td>4302.000000</td>\n",
       "      <td>4302.000000</td>\n",
       "      <td>4302.000000</td>\n",
       "      <td>4302.000000</td>\n",
       "      <td>4302.000000</td>\n",
       "      <td>4302.000000</td>\n",
       "      <td>4302.000000</td>\n",
       "      <td>4302.000000</td>\n",
       "      <td>4302.000000</td>\n",
       "      <td>4302.000000</td>\n",
       "      <td>4302.000000</td>\n",
       "      <td>4302.000000</td>\n",
       "      <td>4302.000000</td>\n",
       "      <td>4302.000000</td>\n",
       "      <td>4302.000000</td>\n",
       "    </tr>\n",
       "    <tr>\n",
       "      <th>mean</th>\n",
       "      <td>1298.449027</td>\n",
       "      <td>464.197738</td>\n",
       "      <td>3057.321916</td>\n",
       "      <td>497.679210</td>\n",
       "      <td>2559.642706</td>\n",
       "      <td>1394.013737</td>\n",
       "      <td>0.727144</td>\n",
       "      <td>14.228498</td>\n",
       "      <td>22.913529</td>\n",
       "      <td>30.245932</td>\n",
       "      <td>29.637378</td>\n",
       "      <td>20.207345</td>\n",
       "      <td>12.818457</td>\n",
       "      <td>8.173408</td>\n",
       "      <td>5.411669</td>\n",
       "      <td>3.376569</td>\n",
       "      <td>2.987215</td>\n",
       "      <td>25.836355</td>\n",
       "    </tr>\n",
       "    <tr>\n",
       "      <th>std</th>\n",
       "      <td>286.979464</td>\n",
       "      <td>290.342413</td>\n",
       "      <td>1442.916994</td>\n",
       "      <td>274.688578</td>\n",
       "      <td>1608.723383</td>\n",
       "      <td>350.460364</td>\n",
       "      <td>0.479049</td>\n",
       "      <td>10.921848</td>\n",
       "      <td>14.323770</td>\n",
       "      <td>15.690314</td>\n",
       "      <td>14.666662</td>\n",
       "      <td>12.227585</td>\n",
       "      <td>10.865255</td>\n",
       "      <td>8.405784</td>\n",
       "      <td>6.373224</td>\n",
       "      <td>4.234686</td>\n",
       "      <td>2.301213</td>\n",
       "      <td>8.998085</td>\n",
       "    </tr>\n",
       "    <tr>\n",
       "      <th>min</th>\n",
       "      <td>943.385818</td>\n",
       "      <td>17.380662</td>\n",
       "      <td>1080.251012</td>\n",
       "      <td>30.028112</td>\n",
       "      <td>94.328383</td>\n",
       "      <td>956.318347</td>\n",
       "      <td>0.003428</td>\n",
       "      <td>1.000000</td>\n",
       "      <td>0.000000</td>\n",
       "      <td>0.000000</td>\n",
       "      <td>0.000000</td>\n",
       "      <td>0.000000</td>\n",
       "      <td>0.000000</td>\n",
       "      <td>0.000000</td>\n",
       "      <td>0.000000</td>\n",
       "      <td>0.000000</td>\n",
       "      <td>1.000000</td>\n",
       "      <td>3.000000</td>\n",
       "    </tr>\n",
       "    <tr>\n",
       "      <th>25%</th>\n",
       "      <td>1092.514067</td>\n",
       "      <td>233.311530</td>\n",
       "      <td>1858.232758</td>\n",
       "      <td>276.265098</td>\n",
       "      <td>1177.064549</td>\n",
       "      <td>1122.491556</td>\n",
       "      <td>0.249801</td>\n",
       "      <td>6.000000</td>\n",
       "      <td>11.250000</td>\n",
       "      <td>19.000000</td>\n",
       "      <td>20.000000</td>\n",
       "      <td>12.000000</td>\n",
       "      <td>4.000000</td>\n",
       "      <td>2.000000</td>\n",
       "      <td>1.000000</td>\n",
       "      <td>1.000000</td>\n",
       "      <td>1.000000</td>\n",
       "      <td>18.000000</td>\n",
       "    </tr>\n",
       "    <tr>\n",
       "      <th>50%</th>\n",
       "      <td>1216.039486</td>\n",
       "      <td>435.901900</td>\n",
       "      <td>2739.701063</td>\n",
       "      <td>412.554239</td>\n",
       "      <td>2323.071551</td>\n",
       "      <td>1317.347705</td>\n",
       "      <td>0.750817</td>\n",
       "      <td>13.000000</td>\n",
       "      <td>22.000000</td>\n",
       "      <td>29.000000</td>\n",
       "      <td>29.000000</td>\n",
       "      <td>18.000000</td>\n",
       "      <td>10.000000</td>\n",
       "      <td>5.000000</td>\n",
       "      <td>3.000000</td>\n",
       "      <td>2.000000</td>\n",
       "      <td>2.000000</td>\n",
       "      <td>26.000000</td>\n",
       "    </tr>\n",
       "    <tr>\n",
       "      <th>75%</th>\n",
       "      <td>1446.210511</td>\n",
       "      <td>685.227454</td>\n",
       "      <td>4177.994027</td>\n",
       "      <td>728.675607</td>\n",
       "      <td>3903.012372</td>\n",
       "      <td>1597.093535</td>\n",
       "      <td>1.152309</td>\n",
       "      <td>20.000000</td>\n",
       "      <td>32.000000</td>\n",
       "      <td>39.000000</td>\n",
       "      <td>37.000000</td>\n",
       "      <td>26.000000</td>\n",
       "      <td>19.000000</td>\n",
       "      <td>12.000000</td>\n",
       "      <td>8.000000</td>\n",
       "      <td>4.000000</td>\n",
       "      <td>4.000000</td>\n",
       "      <td>32.000000</td>\n",
       "    </tr>\n",
       "    <tr>\n",
       "      <th>max</th>\n",
       "      <td>5455.561389</td>\n",
       "      <td>3984.589213</td>\n",
       "      <td>16542.006081</td>\n",
       "      <td>1456.025626</td>\n",
       "      <td>16291.901478</td>\n",
       "      <td>6747.907448</td>\n",
       "      <td>2.433653</td>\n",
       "      <td>122.000000</td>\n",
       "      <td>119.000000</td>\n",
       "      <td>121.000000</td>\n",
       "      <td>135.000000</td>\n",
       "      <td>122.000000</td>\n",
       "      <td>107.000000</td>\n",
       "      <td>70.000000</td>\n",
       "      <td>41.000000</td>\n",
       "      <td>36.000000</td>\n",
       "      <td>20.000000</td>\n",
       "      <td>60.000000</td>\n",
       "    </tr>\n",
       "  </tbody>\n",
       "</table>\n",
       "</div>"
      ],
      "text/plain": [
       "              Mean          Std           Max          Min         Range  \\\n",
       "count  4302.000000  4302.000000   4302.000000  4302.000000   4302.000000   \n",
       "mean   1298.449027   464.197738   3057.321916   497.679210   2559.642706   \n",
       "std     286.979464   290.342413   1442.916994   274.688578   1608.723383   \n",
       "min     943.385818    17.380662   1080.251012    30.028112     94.328383   \n",
       "25%    1092.514067   233.311530   1858.232758   276.265098   1177.064549   \n",
       "50%    1216.039486   435.901900   2739.701063   412.554239   2323.071551   \n",
       "75%    1446.210511   685.227454   4177.994027   728.675607   3903.012372   \n",
       "max    5455.561389  3984.589213  16542.006081  1456.025626  16291.901478   \n",
       "\n",
       "               RMS          FDE            0            1            2  \\\n",
       "count  4302.000000  4302.000000  4302.000000  4302.000000  4302.000000   \n",
       "mean   1394.013737     0.727144    14.228498    22.913529    30.245932   \n",
       "std     350.460364     0.479049    10.921848    14.323770    15.690314   \n",
       "min     956.318347     0.003428     1.000000     0.000000     0.000000   \n",
       "25%    1122.491556     0.249801     6.000000    11.250000    19.000000   \n",
       "50%    1317.347705     0.750817    13.000000    22.000000    29.000000   \n",
       "75%    1597.093535     1.152309    20.000000    32.000000    39.000000   \n",
       "max    6747.907448     2.433653   122.000000   119.000000   121.000000   \n",
       "\n",
       "                 3            4            5            6            7  \\\n",
       "count  4302.000000  4302.000000  4302.000000  4302.000000  4302.000000   \n",
       "mean     29.637378    20.207345    12.818457     8.173408     5.411669   \n",
       "std      14.666662    12.227585    10.865255     8.405784     6.373224   \n",
       "min       0.000000     0.000000     0.000000     0.000000     0.000000   \n",
       "25%      20.000000    12.000000     4.000000     2.000000     1.000000   \n",
       "50%      29.000000    18.000000    10.000000     5.000000     3.000000   \n",
       "75%      37.000000    26.000000    19.000000    12.000000     8.000000   \n",
       "max     135.000000   122.000000   107.000000    70.000000    41.000000   \n",
       "\n",
       "                 8            9         Sign  \n",
       "count  4302.000000  4302.000000  4302.000000  \n",
       "mean      3.376569     2.987215    25.836355  \n",
       "std       4.234686     2.301213     8.998085  \n",
       "min       0.000000     1.000000     3.000000  \n",
       "25%       1.000000     1.000000    18.000000  \n",
       "50%       2.000000     2.000000    26.000000  \n",
       "75%       4.000000     4.000000    32.000000  \n",
       "max      36.000000    20.000000    60.000000  "
      ]
     },
     "execution_count": 7,
     "metadata": {},
     "output_type": "execute_result"
    }
   ],
   "source": [
    "train_f.describe()"
   ]
  },
  {
   "cell_type": "code",
   "execution_count": 10,
   "metadata": {
    "collapsed": false
   },
   "outputs": [
    {
     "name": "stdout",
     "output_type": "stream",
     "text": [
      "          Mean         Std          Max         Min        Range          RMS  \\\n",
      "0  1056.483855   43.359668  1239.829953  948.862905   290.967048  1057.367326   \n",
      "1  1052.896251   79.452031  1217.827497  835.352508   382.474989  1055.869810   \n",
      "4  1058.959304   26.887931  1154.158026  999.485430   154.672596  1059.298328   \n",
      "6  1078.336475   94.646602  1404.977246  825.952253   579.024993  1082.454531   \n",
      "7  1110.473550  290.721716  2494.599542  417.948113  2076.651429  1147.652892   \n",
      "\n",
      "        FDE    0     1     2     3     4     5     6     7    8    9  Sign  \n",
      "0  0.019217  5.0  10.0  26.0  57.0  32.0  11.0   4.0   2.0  1.0  2.0  44.0  \n",
      "1  0.054414  2.0   8.0   8.0   7.0  17.0  46.0  25.0  20.0  8.0  9.0  38.0  \n",
      "4  0.007982  6.0  17.0  28.0  27.0  38.0  19.0  11.0   1.0  1.0  2.0  31.0  \n",
      "6  0.075818  3.0   8.0  16.0  31.0  47.0  24.0  10.0   8.0  2.0  1.0  36.0  \n",
      "7  0.460550  5.0  14.0  37.0  61.0  20.0   5.0   4.0   2.0  1.0  1.0  22.0  \n",
      "          Mean         Std          Max         Min        Range          RMS  \\\n",
      "0  1056.483855   43.359668  1239.829953  948.862905   290.967048  1057.367326   \n",
      "1  1052.896251   79.452031  1217.827497  835.352508   382.474989  1055.869810   \n",
      "4  1058.959304   26.887931  1154.158026  999.485430   154.672596  1059.298328   \n",
      "6  1078.336475   94.646602  1404.977246  825.952253   579.024993  1082.454531   \n",
      "7  1110.473550  290.721716  2494.599542  417.948113  2076.651429  1147.652892   \n",
      "\n",
      "        FDE    0     1     2     3     4     5     6     7    8    9  Sign  \n",
      "0  0.019217  5.0  10.0  26.0  57.0  32.0  11.0   4.0   2.0  1.0  2.0  44.0  \n",
      "1  0.054414  2.0   8.0   8.0   7.0  17.0  46.0  25.0  20.0  8.0  9.0  38.0  \n",
      "4  0.007982  6.0  17.0  28.0  27.0  38.0  19.0  11.0   1.0  1.0  2.0  31.0  \n",
      "6  0.075818  3.0   8.0  16.0  31.0  47.0  24.0  10.0   8.0  2.0  1.0  36.0  \n",
      "7  0.460550  5.0  14.0  37.0  61.0  20.0   5.0   4.0   2.0  1.0  1.0  22.0  \n",
      "Data Split\n",
      "Running Random Forest Trials\n",
      "1\n",
      "2\n",
      "3\n",
      "4\n",
      "5\n",
      "6\n",
      "7\n",
      "8\n",
      "9\n",
      "10\n",
      "Proportion correctly classified:  1.0\n"
     ]
    },
    {
     "data": {
      "image/png": "[encoded data removed]",
      "text/plain": [
       "<matplotlib.figure.Figure at 0x10465d790>"
      ]
     },
     "metadata": {},
     "output_type": "display_data"
    }
   ],
   "source": [
    "person_model(train, test, find_tree_nums=False)"
   ]
  },
  {
   "cell_type": "code",
   "execution_count": 11,
   "metadata": {
    "collapsed": true
   },
   "outputs": [],
   "source": [
    "rf = RandomForestClassifier(n_estimators=100, n_jobs=-1).fit(train_f, train_l)"
   ]
  },
  {
   "cell_type": "code",
   "execution_count": 12,
   "metadata": {
    "collapsed": true
   },
   "outputs": [],
   "source": [
    "pred_labels = rf.predict(test_f)"
   ]
  },
  {
   "cell_type": "code",
   "execution_count": 14,
   "metadata": {
    "collapsed": false
   },
   "outputs": [
    {
     "name": "stdout",
     "output_type": "stream",
     "text": [
      "1.0\n"
     ]
    }
   ],
   "source": [
    "print accuracy_score(pred_labels, test_l.as_matrix())"
   ]
  },
  {
   "cell_type": "code",
   "execution_count": 16,
   "metadata": {
    "collapsed": false
   },
   "outputs": [
    {
     "name": "stdout",
     "output_type": "stream",
     "text": [
      "[ 53.  53.  53. ...,  94.  94.  94.]\n"
     ]
    }
   ],
   "source": [
    "print pred_labels"
   ]
  },
  {
   "cell_type": "code",
   "execution_count": null,
   "metadata": {
    "collapsed": true
   },
   "outputs": [],
   "source": []
  }
 ],
 "metadata": {
  "kernelspec": {
   "display_name": "Python [default]",
   "language": "python",
   "name": "python2"
  },
  "language_info": {
   "codemirror_mode": {
    "name": "ipython",
    "version": 2
   },
   "file_extension": ".py",
   "mimetype": "text/x-python",
   "name": "python",
   "nbconvert_exporter": "python",
   "pygments_lexer": "ipython2",
   "version": "2.7.10"
  }
 },
 "nbformat": 4,
 "nbformat_minor": 0
}

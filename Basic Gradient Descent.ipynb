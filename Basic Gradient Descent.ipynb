{
 "cells": [
  {
   "cell_type": "markdown",
   "metadata": {
    "run_control": {
     "frozen": false,
     "read_only": false
    }
   },
   "source": [
    "# David Kartchner\n",
    "# CS 501\n",
    "# Lab 3: Gradient Descent"
   ]
  },
  {
   "cell_type": "markdown",
   "metadata": {
    "run_control": {
     "frozen": false,
     "read_only": false
    }
   },
   "source": [
    "### Import some useful libraries"
   ]
  },
  {
   "cell_type": "code",
   "execution_count": 41,
   "metadata": {
    "collapsed": true,
    "run_control": {
     "frozen": false,
     "read_only": false
    }
   },
   "outputs": [],
   "source": [
    "import numpy as np\n",
    "import pandas as pd\n",
    "import matplotlib.pyplot as plt\n",
    "import numpy.linalg as la\n",
    "%matplotlib inline"
   ]
  },
  {
   "cell_type": "markdown",
   "metadata": {
    "run_control": {
     "frozen": false,
     "read_only": false
    }
   },
   "source": [
    "###Import CIFAR data and randomly choose 10 features"
   ]
  },
  {
   "cell_type": "code",
   "execution_count": 72,
   "metadata": {
    "collapsed": false,
    "run_control": {
     "frozen": false,
     "read_only": false
    }
   },
   "outputs": [
    {
     "name": "stdout",
     "output_type": "stream",
     "text": [
      "(10, 1000)\n"
     ]
    }
   ],
   "source": [
    "def unpickle( file ):\n",
    "    import pickle\n",
    "    fo = open(file, 'rb')\n",
    "    dict = pickle.load(fo)\n",
    "    fo.close()\n",
    "    return dict\n",
    " \n",
    "data = unpickle('cifar-10-batches-py/data_batch_1')\n",
    " \n",
    "features = np.atleast_2d(data['data'])\n",
    "labels = data['labels']\n",
    "labels = np.atleast_2d(labels).T\n",
    " \n",
    "N = 1000\n",
    "D = 10\n",
    " \n",
    "# only keep N items\n",
    "features = features[0:N,:] \n",
    "labels = labels[0:N,:]\n",
    " \n",
    "# project down into a D-dimensional space\n",
    "features = np.dot(features, np.random.randn(3072, D))\n",
    " \n",
    "# whiten our data - zero mean and unit standard deviation\n",
    "features = (features - np.mean(features, axis=0)) / np.std(features, axis=0)\n",
    "features = np.transpose(features)\n",
    "print features.shape"
   ]
  },
  {
   "cell_type": "markdown",
   "metadata": {
    "run_control": {
     "frozen": false,
     "read_only": false
    }
   },
   "source": [
    "###Define Score, Softmax Loss, and Numerical Gradient functions"
   ]
  },
  {
   "cell_type": "code",
   "execution_count": 43,
   "metadata": {
    "collapsed": true,
    "run_control": {
     "frozen": false,
     "read_only": false
    }
   },
   "outputs": [],
   "source": [
    "def linear_score(W, X):\n",
    "    \"\"\"\n",
    "    Calculate score of a vector of data using a linear score function\n",
    "    \n",
    "    Inuts:\n",
    "        W - m x r weight matrix corresponding to current training weights from the data\n",
    "        X - r x n matrix of features\n",
    "        \n",
    "        ***In the above, note that:\n",
    "            1.  r corresponds to the number of features\n",
    "            2.  n corresponds to the number of observations\n",
    "            3.  m corresponds to the number of classes\n",
    "        \n",
    "    Returns:\n",
    "        scores - m x k matrix of scores corresponding to each observation and each class\n",
    "    \"\"\"\n",
    "    return W.dot(x)"
   ]
  },
  {
   "cell_type": "code",
   "execution_count": 70,
   "metadata": {
    "collapsed": true,
    "run_control": {
     "frozen": false,
     "read_only": false
    }
   },
   "outputs": [],
   "source": [
    "def softmax_loss(W, X, Y):\n",
    "    \"\"\"\n",
    "    Calculate the softmax loss of a classifier with a linear scoring function\n",
    "    \n",
    "    Inputs:\n",
    "        W          - m x r weight matrix corresponding to current training weights from the data\n",
    "        X          - r x n matrix of features\n",
    "        Y          - n x 1 vector of labels corresponding to features in X\n",
    "        \n",
    "        ***In the above, note that:\n",
    "            1.  r corresponds to the number of features\n",
    "            2.  n corresponds to the number of observations\n",
    "            3.  m corresponds to the number of classes\n",
    "        \n",
    "    Returns:\n",
    "        loss       - Value corresponding to the softmax loss for a \n",
    "    \"\"\"\n",
    "    #Calculate Scores\n",
    "    scores = W.dot(X)\n",
    "    \n",
    "    #Calculate Softmax Probabilities\n",
    "    exp_scores = np.exp(scores)\n",
    "    exp_scores *= exp_scores.max(axis=0)\n",
    "    exp_scores /= np.sum(exp_scores, axis=0)\n",
    "    \n",
    "    loss = np.mean(-np.log(exp_scores[Y.flatten(),np.arange(exp_scores.shape[1])]))\n",
    "    \n",
    "    return loss"
   ]
  },
  {
   "cell_type": "code",
   "execution_count": 74,
   "metadata": {
    "collapsed": true,
    "run_control": {
     "frozen": false,
     "read_only": false
    }
   },
   "outputs": [],
   "source": [
    "def numerical_gradient(W, loss_func, X, Y):\n",
    "    \"\"\"\n",
    "    Calculate the softmax loss of a classifier with a given scoring function\n",
    "    \n",
    "    Inputs:\n",
    "        W          - m x r weight matrix corresponding to current training weights from the data\n",
    "        loss_func  - Function to calculate loss for given data and weights\n",
    "        X          - r x n matrix of features\n",
    "        Y          - n x 1 vector of labels corresponding to features in X\n",
    "        \n",
    "        ***In the above, note that:\n",
    "            1.  r corresponds to the number of features\n",
    "            2.  n corresponds to the number of observations\n",
    "            3.  m corresponds to the number of classes\n",
    "        \n",
    "    Returns:\n",
    "        loss       - Score of the loss function for given weight matrix W\n",
    "        grad       - Numerically calculated gradient of weight matrix W\n",
    "    \"\"\"\n",
    "    #Define our step size for calculating numerical derivative\n",
    "    h=.000001\n",
    "    \n",
    "    #Create buffer for numerical gradient\n",
    "    grad = np.zeros_like(W)\n",
    "    \n",
    "    #Calculate loss for W\n",
    "    loss = loss_func(W,X,Y)\n",
    "    \n",
    "    #Calculate gradient by calculating individual partials\n",
    "    for i in xrange(W.shape[0]):\n",
    "        for j in xrange(W.shape[1]):\n",
    "            #Increment the [i,j] element of W to calculate partial derivative\n",
    "            W_h = W.copy()\n",
    "            W_h[i,j] += h\n",
    "            \n",
    "            #Calculate partial derivative\n",
    "            grad[i,j] = ((loss_func(W_h, X, Y) - loss)/h)\n",
    "            \n",
    "    return loss, grad"
   ]
  },
  {
   "cell_type": "markdown",
   "metadata": {
    "run_control": {
     "frozen": false,
     "read_only": false
    }
   },
   "source": [
    "###Run Gradient Descent and plot the results"
   ]
  },
  {
   "cell_type": "code",
   "execution_count": 85,
   "metadata": {
    "collapsed": false,
    "run_control": {
     "frozen": false,
     "read_only": false
    },
    "scrolled": false
   },
   "outputs": [],
   "source": [
    "n_epochs = 1000\n",
    "learning_rate = .1\n",
    "losses = []\n",
    "accuracies = []\n",
    "weights = np.random.randn(10,10)\n",
    "for i in xrange(n_epochs):\n",
    "    #Calculate accuracy at each iteration\n",
    "    acc = np.mean(np.argmax(weights.dot(features), axis=0)==labels.flatten())\n",
    "    \n",
    "    #Calculate loss and gradient of function\n",
    "    loss, grad = numerical_gradient(weights, softmax_loss, features, labels)\n",
    "    \n",
    "    #Update weights\n",
    "    weights -= learning_rate*grad\n",
    "    \n",
    "    #Store loss and accuracy at each iteration\n",
    "    losses.append(loss)\n",
    "    accuracies.append(acc)"
   ]
  },
  {
   "cell_type": "code",
   "execution_count": 86,
   "metadata": {
    "collapsed": false,
    "run_control": {
     "frozen": false,
     "read_only": false
    }
   },
   "outputs": [
    {
     "data": {
      "image/png": "[encoded data removed]",
      "text/plain": [
       "<matplotlib.figure.Figure at 0x10eb49d50>"
      ]
     },
     "metadata": {},
     "output_type": "display_data"
    }
   ],
   "source": [
    "#Plot the loss and accuracy across epochs    \n",
    "plt.figure(figsize=(16,12))\n",
    "\n",
    "#Plot loss\n",
    "plt.subplot(211)\n",
    "plt.title(\"Change in Loss Across Epochs\", fontsize=24)\n",
    "plt.xlabel(\"Epochs\", fontsize=18)\n",
    "plt.ylabel(\"Softmax Loss\", fontsize=18)\n",
    "plt.plot(np.arange(n_epochs),losses)\n",
    "\n",
    "#Plot accuracy\n",
    "plt.subplot(212)\n",
    "plt.title(\"Change in Accuracy Across Epochs\", fontsize=24)\n",
    "plt.xlabel(\"Epochs\", fontsize=18)\n",
    "plt.ylabel(\"Accuracy (%)\", fontsize=18)\n",
    "plt.plot(np.arange(n_epochs),accuracies)\n",
    "\n",
    "#Show plots\n",
    "plt.show()"
   ]
  }
 ],
 "metadata": {
  "anaconda-cloud": {},
  "kernelspec": {
   "display_name": "Python [default]",
   "language": "python",
   "name": "python2"
  },
  "language_info": {
   "codemirror_mode": {
    "name": "ipython",
    "version": 2
   },
   "file_extension": ".py",
   "mimetype": "text/x-python",
   "name": "python",
   "nbconvert_exporter": "python",
   "pygments_lexer": "ipython2",
   "version": "2.7.13"
  },
  "latex_envs": {
   "LaTeX_envs_menu_present": true,
   "autocomplete": true,
   "bibliofile": "biblio.bib",
   "cite_by": "apalike",
   "current_citInitial": 1,
   "eqLabelWithNumbers": true,
   "eqNumInitial": 1,
   "hotkeys": {
    "equation": "Ctrl-E",
    "itemize": "Ctrl-I"
   },
   "labels_anchors": false,
   "latex_user_defs": false,
   "report_style_numbering": false,
   "user_envs_cfg": false
  }
 },
 "nbformat": 4,
 "nbformat_minor": 0
}

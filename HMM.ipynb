{
 "cells": [
  {
   "cell_type": "code",
   "execution_count": 1,
   "metadata": {
    "collapsed": false
   },
   "outputs": [],
   "source": [
    "import numpy as np\n",
    "from itertools import product\n",
    "from matplotlib import pyplot as plt\n",
    "import numpy.linalg as la\n",
    "from __future__ import division\n",
    "import numpy.random as random\n",
    "%matplotlib inline"
   ]
  },
  {
   "cell_type": "code",
   "execution_count": 2,
   "metadata": {
    "collapsed": false
   },
   "outputs": [],
   "source": [
    "def alpha_pass_unweighted(A, B, pi, obs):\n",
    "    \"\"\"\n",
    "    Parameters:\n",
    "    A:  A NxN row-stochastic matrix representing the transition probabilities between underlying states.\n",
    "         A[i,j] = probability of transitioning to state j from state i.\n",
    "    B:  A NxT row-stochastic matrix representing the probability of seeing an observation given a state.\n",
    "         B[i,j] = probability of observing j given that we're in state i.\n",
    "    pi: A Nx1 vector. Represents initial state probability distribution.\n",
    "    obs: Sequence of observations\n",
    "    \n",
    "    Returns:\n",
    "    alpha: NxT array of alpha values calculated as shown above.\n",
    "    C:  Tx1 vector of scaling factors for alphas\n",
    "    \"\"\"\n",
    "    N = A.shape[0]\n",
    "    T = len(obs)\n",
    "    alpha = np.empty((N,T))\n",
    "    C = np.zeros(T)\n",
    "    for i in xrange(N):\n",
    "        alpha[i,0] = pi[i]*B[i,obs[0]]\n",
    "        C[0] += alpha[i,0]\n",
    "    C[0] = 1./C[0]\n",
    "    #alpha[:,0] *= C[0]\n",
    "\n",
    "        \n",
    "    for t in xrange(1,T):\n",
    "        for i in xrange(N):\n",
    "            alpha[i,t] = np.dot(alpha[:,t-1], A[:,i])*B[i, obs[t]]\n",
    "            C[t] += alpha[i, t]\n",
    "        C[t] = 1/C[t]\n",
    "        #alpha[:,t] *= C[t]\n",
    "        \n",
    "    return alpha"
   ]
  },
  {
   "cell_type": "markdown",
   "metadata": {},
   "source": [
    "**Problem 1**    \n",
    "Consider the trained Hidden Markov Problem with ititial conditions given by:   \n",
    "Let $A = \\begin{pmatrix} .7 & .3 \\\\ .4 & .6 \\end{pmatrix}, \\ B = \\begin{pmatrix} .1 & .4 & .5 \\\\ .7 & .2 & .1 \\end{pmatrix}, \\ \\pi = \\begin{pmatrix} 0 & .1 \\end{pmatrix}$\n",
    "\n",
    "And observation sequence:\n",
    "$\\begin{pmatrix} \\mathcal{O}_0 & \\mathcal{O}_1 & \\mathcal{O}_2 \\end{pmatrix} = \\begin{pmatrix} 1 & 0 & 2 \\end{pmatrix}$\n",
    "\n",
    "a)  We brute force the probabilites of seeing each possible sequence given our initial state, transition probabilities, and observation probabilities.  Summing all of these will give the total probability of the observed state.\n",
    "\n",
    "$P(\\mathcal{O}, X = H** | \\lambda) = 0$, since $P(X_0 = H) = 0$  \n",
    "$P(\\mathcal{O}, X = CHH | \\lambda) = (1)(.2)(.4)(.1)(.7)(.5) = .0028$  \n",
    "$P(\\mathcal{O}, X = CHC | \\lambda) = (1)(.2)(.4)(.1)(.3)(.1) = .00024$  \n",
    "$P(\\mathcal{O}, X = CCH | \\lambda) = (1)(.2)(.6)(.7)(.4)(.5) = .0168$   \n",
    "$P(\\mathcal{O}, X = CCC | \\lambda) = (1)(.2)(.6)(.7)(.6)(.1) = .00504$\n",
    "\n",
    "We obtain the total probability this sequence of observations by summing over all possible combinations of state sequences.\n",
    "\n",
    "Thus, $P(\\mathcal{O}|\\lambda) = .0028 + .0024 + .0168 + .00504 = .02488$\n",
    "\n",
    "\n",
    "\n",
    "b) The Alpha Pass:   \n",
    "The alpha pass is a much quicker way to calculate the total probability of a sequence of observations.  We do so by calculating the probability of each partial observation sequence up each observation and then iterating to move onto the next.  Define $\\alpha_t(i)$ as:   \n",
    "$$\\alpha_t(i) = P(\\mathcal{O}_0, \\mathcal{O}_1,...,\\mathcal{O}_t, x_t = q_i|\\lambda)$$\n",
    "Thus, each alpha becomes:   \n",
    "$$\\alpha_t(j) = \\sum_{i=0}^{N-1} \\alpha_{t-1}(i)a_{ij}b_i(\\mathcal{O}_t)$$ \n",
    "\n",
    "Using this, we calculate each $\\alpha_t(i)$ as described above.  \n",
    "\n",
    "$\\alpha_0(0) = \\pi_0b_0(\\mathcal{O}_0) = 0\\cdot.5 = 0$         \n",
    "$\\alpha_0(1) = \\pi_1b_1(\\mathcal{O}_0) = 1\\cdot.2 = .2$\n",
    "$\\alpha_1(0) = (\\alpha_0(0)\\cdot a_{00} + \\alpha_0(1)\\cdot a_{10})b_0(\\mathcal{O}_1) = (0\\cdot0.7 + 0.2\\cdot0.4)\\cdot0.1 = .008$   \n",
    "$\\alpha_1(1) = (0\\cdot0.3 + 0.2\\cdot0.6)\\cdot0.7 = .084$   \n",
    "$\\alpha_2(0) = (.008\\cdot0.7 + 0.084\\cdot0.4)\\cdot0.5 = .0196$  \n",
    "$\\alpha_2(1) = (.008\\cdot0.3 + 0.084\\cdot0.6)\\cdot0.1 = .00528$   \n",
    "Note that these last two probabilities sum up to $P(\\mathcal{O}|\\lambda) = .02488$   \n",
    "\n",
    "\n",
    "c)  The explanations are given in parts (a) and (b) above. Part (a) calculates the total probability of a given observation sequence by summing the joint probabilities the the observation sequence and every possible state sequence.  Part (b) calculates the total probability of ending up in each end state by iteratively estimating the probabilities of arriving at a given end state given the probabilities of being in each previous state (denoted by the $\\alpha_t(i)$ terms) and the transition probabilities.  The total probability of the given state sequence is the same in each case.  The results of the alpha pass calculated using our program are given below.\n",
    "\n",
    "d)  Work factor for method in (a):  $(NT-1)N^T = 40$   \n",
    "    Work factor for method in (b):  $N(NT-1) = 14$"
   ]
  },
  {
   "cell_type": "code",
   "execution_count": 3,
   "metadata": {
    "collapsed": false
   },
   "outputs": [
    {
     "name": "stdout",
     "output_type": "stream",
     "text": [
      "[[ 0.       0.008    0.0196 ]\n",
      " [ 0.2      0.084    0.00528]]\n"
     ]
    }
   ],
   "source": [
    "A = np.array([[.7, .3],[.4, .6]])\n",
    "B = np.array([[.1, .4, .5], [.7, .2, .1]])\n",
    "pi = np.array([0., 1.])\n",
    "obs = np.array([1,0,2])\n",
    "N = 2\n",
    "T = 3\n",
    "alpha = alpha_pass_unweighted(A, B, pi, obs)\n",
    "print alpha"
   ]
  },
  {
   "cell_type": "markdown",
   "metadata": {},
   "source": [
    "**Problem 2**    \n",
    "Compare Dynamic Programming and HMM approaches:  \n",
    "\n",
    "Dynamic Program:  The code below uses dynamic programming to find the most probable path, which turns out to be $\\{C, C, H\\}$   \n",
    "\n",
    "HMM Program: To maximize the number of correctly matched states, we simply find the most probable state for each observation.  This yields the sequence:  $\\{C, C, H\\}$, since we know that the starting state must be $C$."
   ]
  },
  {
   "cell_type": "code",
   "execution_count": 4,
   "metadata": {
    "collapsed": false
   },
   "outputs": [],
   "source": [
    "def dynamicPath(A, B, pi, obs):\n",
    "    \"\"\"\n",
    "    Parameters:\n",
    "    A:  A NxN row-stochastic matrix representing the transition probabilities between underlying states.\n",
    "         A[i,j] = probability of transitioning to state j from state i.\n",
    "    B:  A NxT row-stochastic matrix representing the probability of seeing an observation given a state.\n",
    "         B[i,j] = probability of observing j given that we're in state i.\n",
    "    pi: A Nx1 vector. Represents initial state probability distribution.\n",
    "    obs: Sequence of observations\n",
    "    \n",
    "    Returns:\n",
    "    best_path: Optimal path of hidden states\n",
    "    \"\"\"\n",
    "    T = len(obs)\n",
    "    N = len(pi)\n",
    "    \n",
    "    #We take log probabilities in to allow us to add probabilities (rather than multiply) and to prevent underflow\n",
    "    A = np.log(A)\n",
    "    B = np.log(B)\n",
    "    pi = np.log(pi)\n",
    "    \n",
    "    #state_paths: Optimal sequences to arrive at each end state given the data\n",
    "    #path_probs:  best log probabilities of arriving at each state at a given step in our algorithm    \n",
    "    state_paths = np.empty((N,T))\n",
    "    path_probs = np.empty((N,T))\n",
    "    \n",
    "    #There is an optimization that doesn't require us to remember probabilities at every state.\n",
    "    #However, I like this way better because it's easier to tweak for greater functionality.\n",
    "    \n",
    "    #Initialize probabilities of being in each initial state\n",
    "    for i in xrange(N):\n",
    "        path_probs[i,0] = pi[i]+B[i,obs[0]]\n",
    "    \n",
    "    #Now iteratively calculate probabilities of being in each new state given the probabilities of the previous states\n",
    "    for t in xrange(1,T):\n",
    "        for j in xrange(N):\n",
    "            trans_probs = path_probs[:,t-1]+A[:,j]+B[j,obs[t]]\n",
    "            \n",
    "            path_probs[j,t] = np.max(trans_probs)\n",
    "            state_paths[j,t-1] = np.argmax(trans_probs)\n",
    "    state_paths[:,T-1] = np.arange(N)\n",
    "            \n",
    "    best_index = np.argmax(path_probs[:,T-1])\n",
    "    best_path = state_paths[best_index,:]\n",
    "    return best_path"
   ]
  },
  {
   "cell_type": "code",
   "execution_count": 5,
   "metadata": {
    "collapsed": false
   },
   "outputs": [
    {
     "name": "stdout",
     "output_type": "stream",
     "text": [
      "[ 1.  1.  0.]\n"
     ]
    },
    {
     "name": "stderr",
     "output_type": "stream",
     "text": [
      "/Users/davidspencerkartchner/anaconda/lib/python2.7/site-packages/ipykernel/__main__.py:20: RuntimeWarning: divide by zero encountered in log\n"
     ]
    }
   ],
   "source": [
    "print dynamicPath(A, B, pi, obs)"
   ]
  },
  {
   "cell_type": "markdown",
   "metadata": {},
   "source": [
    "**Problem 3**    \n",
    "For problem 3, we calculate the total probability of observation sequences using both brute force and using our much more efficient alpha pass.  Below, prob3_a gives the probabilities of every possible length-4 observation sequence using the brute force method while prob3_b gives the probabilities using the alpha pass.  We then show that the arrays are identical (up to machine epsilon) using np.allclose() and show that these probabilities sum to 1, as expected."
   ]
  },
  {
   "cell_type": "code",
   "execution_count": 6,
   "metadata": {
    "collapsed": false
   },
   "outputs": [],
   "source": [
    "def prob3_a(A, B, pi):\n",
    "    #The sequences defined below represent all possible sequences of underlying states\n",
    "    sequences = list(product(range(2), repeat=4))\n",
    "    n = len(sequences)\n",
    "    for i in xrange(n):\n",
    "        sequences[i] = list(sequences[i])\n",
    "    sequences = np.array(sequences)\n",
    "    \n",
    "    obs = list(product(range(3), repeat=4))\n",
    "    N = len(obs)\n",
    "    for i in xrange(N):\n",
    "        obs[i] = list(obs[i])\n",
    "    obs = np.array(obs)\n",
    "    \n",
    "    def find_seq_prob(obs, sequences):\n",
    "        k = len(obs)\n",
    "        total_prob = 0\n",
    "        for i in xrange(n):\n",
    "            seq = sequences[i]\n",
    "            prob = pi[seq[0]]*B[seq[0], obs[0]]\n",
    "            for j in xrange(1,k):\n",
    "                prob *= A[seq[j-1], seq[j]]\n",
    "                prob *=B[seq[j], obs[j]]\n",
    "            total_prob += prob\n",
    "                \n",
    "        return total_prob\n",
    "            \n",
    "\n",
    "    \n",
    "    probs = np.zeros(N)\n",
    "    for i in xrange(N):\n",
    "        probs[i] = find_seq_prob(obs[i], sequences)\n",
    "    \n",
    "    return probs"
   ]
  },
  {
   "cell_type": "code",
   "execution_count": 7,
   "metadata": {
    "collapsed": false
   },
   "outputs": [],
   "source": [
    "def prob3_b(A, B, pi):\n",
    "    obs = list(product(range(3), repeat=4))\n",
    "    n = len(obs)\n",
    "    for i in xrange(n):\n",
    "        obs[i] = list(obs[i])\n",
    "    obs = np.array(obs)\n",
    "    \n",
    "    probs = np.zeros(n)\n",
    "    for i in xrange(n):\n",
    "        #Note that the sum of the last col of the alpha array will give us the probability of a particular sequence\n",
    "        alpha = alpha_pass_unweighted(A, B, pi, obs[i])\n",
    "        prob = np.sum(alpha[:,-1])\n",
    "        probs[i] = prob\n",
    "        \n",
    "    return probs"
   ]
  },
  {
   "cell_type": "code",
   "execution_count": 8,
   "metadata": {
    "collapsed": false
   },
   "outputs": [
    {
     "name": "stdout",
     "output_type": "stream",
     "text": [
      "Magic program, are the two estimations the same up to machine epsion? \n",
      "Answer: True\n",
      "Sum of probabilities =  1.0\n"
     ]
    }
   ],
   "source": [
    "A = np.array([[.7, .3],[.4, .6]])\n",
    "B = np.array([[.1, .4, .5], [.7, .2, .1]])\n",
    "pi = np.array([.6, .4])\n",
    "probs_a = prob3_a(A, B, pi)\n",
    "probs_b = prob3_b(A, B, pi)\n",
    "print \"Magic program, are the two estimations the same up to machine epsion? \\nAnswer:\", np.allclose(probs_a, probs_b)\n",
    "print \"Sum of probabilities = \",np.sum(probs_b)"
   ]
  },
  {
   "cell_type": "markdown",
   "metadata": {},
   "source": [
    "**Problem 4**   \n",
    "$$\\pi_i = \\frac{\\sum_{j=0}^{N-1}\\alpha_0(i)a_{ij}b_j(\\mathcal{O}_1)\\beta_1(j)}{\\sum_{j=0}^{N-1}\\sum_{i=0}^{N-1}\\alpha_0(i)a_{ij}b_j(\\mathcal{O}_1)\\beta_1(j)}$$\n",
    "\n",
    "$$a_{ij} = \\sum_{t=0}^{T-2}\\frac{\\alpha_t(i)a_{ij}b_j(\\mathcal{O}_{t+1})\\beta_{t+1}(j)}{\\sum_{j=0}^{N-1}\\alpha_t(i)a_{ij}b_j(\\mathcal{O}_{t+1})\\beta_{t+1}(j)}$$\n",
    "\n",
    "$$b_{j}(k) = \\frac{\\sum_{t\\in\\{0,...,T-1\\},\\ \\mathcal{O}_t = k}\\sum_{j=0}^{N-1}\\alpha_t(i)a_{ij}b_j(\\mathcal{O}_{t+1})\\beta_{t+1}(j)}{\\sum_{t=0}^{T-1}\\sum_{j=0}^{N-1}\\alpha_t(i)a_{ij}b_j(\\mathcal{O}_{t+1})\\beta_{t+1}(j)}$$\n"
   ]
  },
  {
   "cell_type": "markdown",
   "metadata": {},
   "source": [
    "**Problem 9**"
   ]
  },
  {
   "cell_type": "code",
   "execution_count": 9,
   "metadata": {
    "collapsed": false
   },
   "outputs": [
    {
     "name": "stdout",
     "output_type": "stream",
     "text": [
      "(array([[ 0.75      ,  0.19230769,  0.80842391],\n",
      "       [ 0.25      ,  0.80769231,  0.19157609]]), array([ 3.125     ,  3.07692308,  3.5326087 ]))\n"
     ]
    }
   ],
   "source": [
    "def alpha_pass(A, B, pi, obs):\n",
    "    \"\"\"\n",
    "    Parameters:\n",
    "    A:  A NxN row-stochastic matrix representing the transition probabilities between underlying states.\n",
    "         A[i,j] = probability of transitioning to state j from state i.\n",
    "    B:  A NxT row-stochastic matrix representing the probability of seeing an observation given a state.\n",
    "         B[i,j] = probability of observing j given that we're in state i.\n",
    "    pi: A Nx1 vector. Represents initial state probability distribution.\n",
    "    obs: Sequence of observations\n",
    "    \n",
    "    Returns:\n",
    "    alpha: NxT array of alpha values calculated as shown above.\n",
    "    C:  Tx1 vector of scaling factors for alphas\n",
    "    \"\"\"\n",
    "    N = A.shape[0]\n",
    "    T = len(obs)\n",
    "    alpha = np.empty((N,T))\n",
    "    C = np.zeros(T)\n",
    "    for i in xrange(N):\n",
    "        alpha[i,0] = pi[i]*B[i,obs[0]]\n",
    "        C[0] += alpha[i,0]\n",
    "    C[0] = 1./C[0]\n",
    "    alpha[:,0] *= C[0]\n",
    "\n",
    "        \n",
    "    for t in xrange(1,T):\n",
    "        for i in xrange(N):\n",
    "            alpha[i,t] = np.dot(alpha[:,t-1], A[:,i])*B[i, obs[t]]\n",
    "            C[t] += alpha[i, t]\n",
    "        C[t] = 1/C[t]\n",
    "        alpha[:,t] *= C[t]\n",
    "        \n",
    "    return alpha, C\n",
    "\n",
    "print alpha_pass(A, B, pi, obs)"
   ]
  },
  {
   "cell_type": "code",
   "execution_count": 10,
   "metadata": {
    "collapsed": false
   },
   "outputs": [],
   "source": [
    "def beta_pass(A, B, pi, obs, C):\n",
    "    \"\"\"\n",
    "    Inputs:\n",
    "    A:  A NxN row-stochastic matrix representing the transition probabilities between underlying states.\n",
    "         A[i,j] = probability of transitioning to state j from state i.\n",
    "    B:  A NxT row-stochastic matrix representing the probability of seeing an observation given a state.\n",
    "         B[i,j] = probability of observing j given that we're in state i.\n",
    "    pi: A Nx1 vector. Represents initial state probability distribution.\n",
    "    obs: Sequence of observations\n",
    "    \n",
    "    Returns:\n",
    "    \n",
    "    \"\"\"\n",
    "    T = len(obs)\n",
    "    N = len(pi)\n",
    "    beta = np.empty((N,T))\n",
    "    d = np.zeros(T)\n",
    "    beta[:,T-1] = np.ones(N)*C[T-1]\n",
    "    #d[T-1] = N\n",
    "    \n",
    "    for t in xrange(T-2,-1,-1):\n",
    "        for i in xrange(N):\n",
    "            beta[i,t] = np.dot(A[i,:], np.multiply(B[:,obs[t+1]],beta[:,t+1]))\n",
    "            #d[t] += beta[i,t]\n",
    "        beta[:,t] *= C[t]\n",
    "\n",
    "    return beta\n",
    "alpha, C = alpha_pass(A, B, pi, obs)\n",
    "beta= beta_pass(A, B, pi, obs,C)"
   ]
  },
  {
   "cell_type": "code",
   "execution_count": 11,
   "metadata": {
    "collapsed": false
   },
   "outputs": [
    {
     "name": "stdout",
     "output_type": "stream",
     "text": [
      "(array([[[ 0.21684783,  0.23777174],\n",
      "        [ 0.4451087 ,  0.02038043]],\n",
      "\n",
      "       [[ 0.04130435,  0.57065217],\n",
      "        [ 0.29673913,  0.17119565]]]), array([[ 0.66195652,  0.25815217,  0.80842391],\n",
      "       [ 0.33804348,  0.74184783,  0.19157609]]))\n"
     ]
    }
   ],
   "source": [
    "def gamma_pass(A, B, obs, alpha, beta):\n",
    "    \"\"\"\n",
    "    Inputs:\n",
    "    \n",
    "    A:  A NxN row-stochastic matrix representing the transition probabilities between underlying states.\n",
    "         A[i,j] = probability of transitioning to state j from state i.\n",
    "    B:  A NxT row-stochastic matrix representing the probability of seeing an observation given a state.\n",
    "         B[i,j] = probability of observing j given that we're in state i.\n",
    "    obs: Sequence of observations\n",
    "    \n",
    "    \n",
    "    Returns:\n",
    "    gammas:  NxNxT-1 array, where gammas[i,j,t] represents the probability of being in state\n",
    "        i at time t and transitioning to state j at time t+1\n",
    "    digammas:  NxT array, where digammas[i,t] represents the probability of being in state i\n",
    "        at time t given the observation sequence\n",
    "    \"\"\"\n",
    "    N = A.shape[0]\n",
    "    T = len(obs)\n",
    "    \n",
    "    #Initialize array of gammas, as described above\n",
    "    gammas = np.zeros((N,N,T-1))\n",
    "    \n",
    "    #Initialize array of digammas, as described above\n",
    "    digammas = np.zeros((N,T))\n",
    "    \n",
    "    #Iteratively calculate gamma[i,j,t] and scale appropriately\n",
    "    for t in xrange(T-1):\n",
    "        for i in xrange(N):\n",
    "            gammas[i,:,t] = alpha[i,t]*np.multiply(A[i,:], np.multiply(B[:,obs[t+1]], beta[:,t+1]))\n",
    "        denom = np.sum(gammas[:,:,t])\n",
    "        gammas[:,:,t] /= denom\n",
    "        \n",
    "        #Calculate digammas by summing \n",
    "        digammas[:,t] = np.sum(gammas[:,:,t], axis=1)\n",
    "        \n",
    "    digammas[:,T-1] = alpha[:,T-1] / np.sum(alpha[:,T-1])\n",
    "    \n",
    "    return gammas, digammas\n",
    "\n",
    "print gamma_pass(A, B, obs, alpha, beta)"
   ]
  },
  {
   "cell_type": "code",
   "execution_count": 12,
   "metadata": {
    "collapsed": false
   },
   "outputs": [
    {
     "name": "stdout",
     "output_type": "stream",
     "text": [
      "alpha [[ 0.75        0.19230769  0.80842391]\n",
      " [ 0.25        0.80769231  0.19157609]]\n",
      "beta [[ 2.75815217  4.13043478  3.5326087 ]\n",
      " [ 4.22554348  2.82608696  3.5326087 ]]\n",
      "digammas [[[ 0.21684783  0.23777174]\n",
      "  [ 0.4451087   0.02038043]]\n",
      "\n",
      " [[ 0.04130435  0.57065217]\n",
      "  [ 0.29673913  0.17119565]]]\n",
      "gammas [[ 0.66195652  0.25815217  0.80842391]\n",
      " [ 0.33804348  0.74184783  0.19157609]]\n"
     ]
    }
   ],
   "source": [
    "\n",
    "print 'alpha', alpha\n",
    "print 'beta',beta\n",
    "gammas, digammas = gamma_pass(A, B,obs, alpha, beta)\n",
    "\n",
    "print 'digammas', gammas\n",
    "print 'gammas', digammas\n"
   ]
  },
  {
   "cell_type": "code",
   "execution_count": 13,
   "metadata": {
    "collapsed": true
   },
   "outputs": [],
   "source": [
    "def beta_gamma_pass(A, B, pi, obs, C):\n",
    "    N = A.shape[0]\n",
    "    T = len(obs)\n",
    "    \n",
    "    #Initialize array of gammas, as described above\n",
    "    gammas = np.zeros((N,N,T-1))\n",
    "    \n",
    "    #Initialize array of digammas, as described above\n",
    "    digammas = np.zeros((N,T))\n",
    "    \n",
    "    #Iteratively calculate gamma[i,j,t] and scale appropriately\n",
    "    for t in xrange(T-1):\n",
    "        for i in xrange(N):\n",
    "            gammas[i,:,t] = np.multiply(np.multiply(alpha[:,t],A[i,:]), np.multiply(B[:,obs[t]], beta[:,t+1]))\n",
    "        denom = np.sum(gammas[:,:,t])\n",
    "        gammas[:,:,t] /= denom\n",
    "        \n",
    "        #Calculate digammas by summing \n",
    "        digammas[:,t] = np.sum(gammas[:,:,t], axis=(1))\n",
    "        \n",
    "    digammas[:,T-1] = alpha[:,T-1] / np.sum(alpha[:,T-1])\n",
    "    \n",
    "    return gammas, digammas"
   ]
  },
  {
   "cell_type": "code",
   "execution_count": 14,
   "metadata": {
    "collapsed": false
   },
   "outputs": [
    {
     "name": "stdout",
     "output_type": "stream",
     "text": [
      "[[ 0.7  0.3]\n",
      " [ 0.4  0.6]]\n",
      "[[ 0.1  0.4  0.5]\n",
      " [ 0.7  0.2  0.1]]\n",
      "[ 0.6  0.4] \n",
      "\n",
      "[[ 0.49409333  0.50590667]\n",
      " [ 0.56668344  0.43331656]]\n",
      "[[ 0.30683429  0.69316571]\n",
      " [ 0.67017057  0.32982943]]\n",
      "[[ 0.08580492  0.91419508]\n",
      " [ 0.79873764  0.20126236]]\n",
      "[[ 0.00231581  0.99768419]\n",
      " [ 0.92339608  0.07660392]]\n",
      "[[  4.27956538e-07   9.99999572e-01]\n",
      " [  9.87966675e-01   1.20333255e-02]]\n",
      "[[  2.23227678e-15   1.00000000e+00]\n",
      " [  9.99708688e-01   2.91312333e-04]]\n",
      "[[  1.45245139e-33   1.00000000e+00]\n",
      " [  9.99999830e-01   1.69750465e-07]]\n",
      "[[  3.58108257e-73   1.00000000e+00]\n",
      " [  1.00000000e+00   5.76304458e-14]]\n",
      "[[  7.39061620e-159   1.00000000e+000]\n",
      " [  1.00000000e+000   6.64253656e-027]]\n",
      "[[  0.00000000e+00   1.00000000e+00]\n",
      " [  1.00000000e+00   8.82465839e-53]]\n"
     ]
    }
   ],
   "source": [
    "def recalculate_parameters(A, B, obs, gammas, digammas):\n",
    "    \"\"\"\n",
    "    Inputs:\n",
    "    A:  A NxN row-stochastic matrix representing the transition probabilities between underlying states.\n",
    "         A[i,j] = probability of transitioning to state j from state i.\n",
    "    B:  A NxT row-stochastic matrix representing the probability of seeing an observation given a state.\n",
    "         B[i,j] = probability of observing j given that we're in state i.\n",
    "    gammas:  NxNxT-1 array of gammas[i,j], where gamma[i,j,t] represents the probability of being in state\n",
    "        i at time t and transitioning to state j at time t+1\n",
    "    digammas:  NxT array, where digammas[i,t] represents the probability of being in state i\n",
    "        at time t given the observation sequence\n",
    "    obs: Sequence of observations\n",
    "    \n",
    "    Returns:\n",
    "    \n",
    "    \"\"\"\n",
    "    N = A.shape[0]\n",
    "    M = B.shape[1]\n",
    "    \n",
    "    #Reestimate pi\n",
    "    pi = digammas[:,0]\n",
    "    \n",
    "    #Reestimate A\n",
    "    A = np.sum(gammas, axis=2)\n",
    "    A_divisors = np.sum(digammas[:,:-1], axis=1)\n",
    "    \n",
    "    for i in xrange(N):\n",
    "        A[i,:] /= A_divisors[i]\n",
    "    \n",
    "    #Reestimate B\n",
    "    B_copy = np.copy(B)\n",
    "    B_divisors = np.sum(digammas, axis=1)\n",
    "    for i in xrange(N):\n",
    "        for j in xrange(M):\n",
    "            #print digammas[i,:]\n",
    "            #print np.sum(digammas[i,:][obs==j])\n",
    "            B_copy[i,j] = np.sum(digammas[i,:][np.where(obs==j)])/B_divisors[i]\n",
    "            \n",
    "    return A, B_copy, pi\n",
    "\n",
    "\n",
    "print A\n",
    "print B\n",
    "print pi, \"\\n\"\n",
    "for i in xrange(10):\n",
    "    alphas, C = alpha_pass(A, B, pi, obs)\n",
    "    betas = beta_pass(A, B, pi, obs, C)\n",
    "    gammas, digammas = gamma_pass(A, B, obs, alphas, betas)\n",
    "    A, B, pi = recalculate_parameters(A, B, obs, gammas, digammas)\n",
    "    \n",
    "    print A\n",
    "    #print B\n",
    "    #print pi, \"\\n\"\n"
   ]
  },
  {
   "cell_type": "code",
   "execution_count": 15,
   "metadata": {
    "collapsed": true
   },
   "outputs": [],
   "source": [
    "def calc_log_prob(C):\n",
    "    \"\"\"\n",
    "    Inputs:\n",
    "    C:  Array of length T.  Contains the scaling weights calculated in the alpha pass\n",
    "    \n",
    "    Returns:\n",
    "    log_prob:  The log probability of the model based on the weights\n",
    "    \"\"\"\n",
    "    log_prob = np.sum(np.log(C))\n",
    "    return log_prob"
   ]
  },
  {
   "cell_type": "code",
   "execution_count": 16,
   "metadata": {
    "collapsed": false
   },
   "outputs": [],
   "source": [
    "def HMM(A, B, pi, obs):\n",
    "    maxiters = 100\n",
    "    iters = 0\n",
    "    log_prob=0\n",
    "    old_log_prob = -np.inf\n",
    "    probabilities = []\n",
    "    while iters < maxiters:\n",
    "        old_log_prob = log_prob\n",
    "        alphas, C = alpha_pass(A, B, pi, obs)\n",
    "        betas = beta_pass(A, B, pi, obs, C)\n",
    "        gammas, digammas = gamma_pass(A, B, obs, alphas, betas)\n",
    "        A, B, pi = recalculate_parameters(A, B, obs, gammas, digammas)\n",
    "        log_prob = -calc_log_prob(C)\n",
    "        iters += 1\n",
    "        probabilities.append(log_prob)\n",
    "    \n",
    "    plt.plot(range(iters), probabilities)\n",
    "    plt.xlabel(\"Iteration\")\n",
    "    plt.ylabel(\"Log Probability\")\n",
    "    plt.show()\n",
    "    return A, B, pi\n",
    "    "
   ]
  },
  {
   "cell_type": "code",
   "execution_count": 17,
   "metadata": {
    "collapsed": false
   },
   "outputs": [],
   "source": [
    "def numberfy(filename):\n",
    "    \"\"\"\n",
    "    Converts text file containing lowercase letters and spaces into numbers\n",
    "    \n",
    "    Inputs:\n",
    "    filename:  Name of the text file to be converted\n",
    "    \n",
    "    Returns:\n",
    "    numberfied_text: Contents of file after being converted to numbers\n",
    "    \"\"\"\n",
    "    f = open(filename, 'r')\n",
    "    text = f.read()\n",
    "    numberfied_text = np.array([ord(character) - 97 for character in text])\n",
    "    numberfied_text[numberfied_text < 0] = 26\n",
    "    return numberfied_text[0:50000]"
   ]
  },
  {
   "cell_type": "code",
   "execution_count": 18,
   "metadata": {
    "collapsed": true
   },
   "outputs": [],
   "source": [
    "def gen_initial_conditions(N, M):\n",
    "    \"\"\"\n",
    "    Inputs:\n",
    "    N:  Number of underlying (unobserved) states\n",
    "    M:  Number of observed states\n",
    "    \n",
    "    Returns:\n",
    "    A:  A NxN row-stochastic matrix representing the transition probabilities between underlying states.\n",
    "         A[i,j] = probability of transitioning to state j from state i.\n",
    "    B:  A NxT row-stochastic matrix representing the probability of seeing an observation given a state.\n",
    "         B[i,j] = probability of observing j given that we're in state i.\n",
    "    pi:  A Nx1 vector. Represents initial state probability distribution.\n",
    "         \n",
    "    \"\"\"\n",
    "    #Initialize A and B with draws from a uniform distribution and then normalize\n",
    "    A = random.uniform(size=(N,N))\n",
    "    A /= np.sum(A, axis=0)\n",
    "    A = A.T\n",
    "    B = random.uniform(size=(M,N))\n",
    "    B /= np.sum(B, axis=0)\n",
    "    B = B.T\n",
    "    pi = random.uniform(size=N)\n",
    "    pi /= np.sum(pi)\n",
    "    return A, B, pi"
   ]
  },
  {
   "cell_type": "code",
   "execution_count": 19,
   "metadata": {
    "collapsed": true
   },
   "outputs": [],
   "source": [
    "def classify_letters(b_new):\n",
    "    n = b_new.shape[0]\n",
    "    groups = np.argmax(b_new, axis=0)\n",
    "    letters = np.array(['a','b','c','d','e','f','g','h','i','j','k','l','m','n','o','p','q','r','s','t','u','v','w','x','y','z',' '])\n",
    "    for i in xrange(n):\n",
    "        print letters[np.where(groups==i)]"
   ]
  },
  {
   "cell_type": "markdown",
   "metadata": {},
   "source": [
    "**Split letters into two categories**    \n",
    "Note that here, the model naturally splits the letters into vowells and consonants"
   ]
  },
  {
   "cell_type": "code",
   "execution_count": 95,
   "metadata": {
    "collapsed": false
   },
   "outputs": [
    {
     "data": {
      "image/png": "[encoded data removed]",
      "text/plain": [
       "<matplotlib.figure.Figure at 0x10a38c690>"
      ]
     },
     "metadata": {},
     "output_type": "display_data"
    },
    {
     "name": "stdout",
     "output_type": "stream",
     "text": [
      "['b' 'c' 'd' 'f' 'g' 'h' 'j' 'k' 'l' 'm' 'n' 'p' 'q' 'r' 's' 't' 'v' 'w'\n",
      " 'x' 'y' 'z']\n",
      "['a' 'e' 'i' 'o' 'u' ' ']\n"
     ]
    }
   ],
   "source": [
    "A, B, pi = gen_initial_conditions(2, 27)\n",
    "obs = numberfy('brown.txt')\n",
    "A_new, B_new, pi_new = HMM(A, B, pi, obs)\n",
    "classify_letters(B_new)"
   ]
  },
  {
   "cell_type": "markdown",
   "metadata": {},
   "source": [
    "**Split letters into three categories**   \n",
    "Here, we get almost all of the vowells in one category, but have 'e' grouped with a few consonants and 'y'"
   ]
  },
  {
   "cell_type": "code",
   "execution_count": 92,
   "metadata": {
    "collapsed": false
   },
   "outputs": [
    {
     "data": {
      "image/png": "[encoded data removed]",
      "text/plain": [
       "<matplotlib.figure.Figure at 0x10b11dbd0>"
      ]
     },
     "metadata": {},
     "output_type": "display_data"
    },
    {
     "name": "stdout",
     "output_type": "stream",
     "text": [
      "['e' 'g' 'h' 'k' 'y']\n",
      "['a' 'i' 'o' 'u' ' ']\n",
      "['b' 'c' 'd' 'f' 'j' 'l' 'm' 'n' 'p' 'q' 'r' 's' 't' 'v' 'w' 'x' 'z']\n"
     ]
    }
   ],
   "source": [
    "A, B, pi = gen_initial_conditions(3, 27)\n",
    "obs = numberfy('brown.txt')\n",
    "A_new, B_new, pi_new = HMM(A, B, pi, obs)\n",
    "classify_letters(B_new)"
   ]
  },
  {
   "cell_type": "markdown",
   "metadata": {},
   "source": [
    "**Split letters into four categories**   \n",
    "This is perhaps as we expect.  We see all of the voewlls in one category, the space character in a category of its own, and two categories of consonants."
   ]
  },
  {
   "cell_type": "code",
   "execution_count": 93,
   "metadata": {
    "collapsed": false
   },
   "outputs": [
    {
     "data": {
      "image/png": "[encoded data removed]",
      "text/plain": [
       "<matplotlib.figure.Figure at 0x10a7da090>"
      ]
     },
     "metadata": {},
     "output_type": "display_data"
    },
    {
     "name": "stdout",
     "output_type": "stream",
     "text": [
      "['a' 'e' 'i' 'o' 'u']\n",
      "[' ']\n",
      "['b' 'c' 'h' 'j' 'k' 'm' 'p' 'q' 't' 'v' 'w' 'z']\n",
      "['d' 'f' 'g' 'l' 'n' 'r' 's' 'x' 'y']\n"
     ]
    }
   ],
   "source": [
    "A, B, pi = gen_initial_conditions(4, 27)\n",
    "obs = numberfy('brown.txt')\n",
    "A_new, B_new, pi_new = HMM(A, B, pi, obs)\n",
    "classify_letters(B_new)"
   ]
  },
  {
   "cell_type": "markdown",
   "metadata": {},
   "source": [
    "**Problem 10a**   \n",
    "Split an encrypted text into vowels and consonants.  "
   ]
  },
  {
   "cell_type": "code",
   "execution_count": 94,
   "metadata": {
    "collapsed": false
   },
   "outputs": [
    {
     "data": {
      "image/png": "[encoded data removed]",
      "text/plain": [
       "<matplotlib.figure.Figure at 0x10a4d6110>"
      ]
     },
     "metadata": {},
     "output_type": "display_data"
    },
    {
     "name": "stdout",
     "output_type": "stream",
     "text": [
      "['a' 'b' 'd' 'e' 'f' 'g' 'i' 'j' 'l' 'm' 'n' 'p' 'q' 'r' 's' 't' 'w' 'x'\n",
      " 'y' 'z' ' ']\n",
      "['c' 'h' 'k' 'o' 'u' 'v']\n"
     ]
    }
   ],
   "source": [
    "A, B, pi = gen_initial_conditions(2, 27)\n",
    "obs = numberfy('ciphertext.txt')\n",
    "A_new, B_new, pi_new = HMM(A, B, pi, obs)\n",
    "classify_letters(B_new)"
   ]
  },
  {
   "cell_type": "code",
   "execution_count": null,
   "metadata": {
    "collapsed": true
   },
   "outputs": [],
   "source": []
  }
 ],
 "metadata": {
  "kernelspec": {
   "display_name": "Python 2",
   "language": "python",
   "name": "python2"
  },
  "language_info": {
   "codemirror_mode": {
    "name": "ipython",
    "version": 2
   },
   "file_extension": ".py",
   "mimetype": "text/x-python",
   "name": "python",
   "nbconvert_exporter": "python",
   "pygments_lexer": "ipython2",
   "version": "2.7.11"
  }
 },
 "nbformat": 4,
 "nbformat_minor": 0
}
